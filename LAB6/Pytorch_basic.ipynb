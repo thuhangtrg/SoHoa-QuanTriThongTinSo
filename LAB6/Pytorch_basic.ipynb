{
  "nbformat": 4,
  "nbformat_minor": 0,
  "metadata": {
    "colab": {
      "provenance": [],
      "gpuType": "T4"
    },
    "kernelspec": {
      "name": "python3",
      "display_name": "Python 3"
    },
    "language_info": {
      "name": "python"
    },
    "accelerator": "GPU"
  },
  "cells": [
    {
      "cell_type": "markdown",
      "source": [
        "Pytorch"
      ],
      "metadata": {
        "id": "RDr5Vs-1TrGY"
      }
    },
    {
      "cell_type": "code",
      "source": [
        "import torch\n",
        "print(torch.__version__)  # Xem phiên bản PyTorch có sẵn\n"
      ],
      "metadata": {
        "colab": {
          "base_uri": "https://localhost:8080/"
        },
        "id": "XVMcuzIMXFqM",
        "outputId": "33d93cd1-6a84-4783-97c0-223b53ad9062"
      },
      "execution_count": null,
      "outputs": [
        {
          "output_type": "stream",
          "name": "stdout",
          "text": [
            "2.5.1+cu124\n"
          ]
        }
      ]
    },
    {
      "cell_type": "code",
      "source": [
        "import torch\n",
        "\n",
        "torch.cuda.is_available()"
      ],
      "metadata": {
        "colab": {
          "base_uri": "https://localhost:8080/"
        },
        "id": "k7Y5gpKuUiv7",
        "outputId": "33c6b47e-1067-4222-a64a-5b5b851444ca"
      },
      "execution_count": null,
      "outputs": [
        {
          "output_type": "execute_result",
          "data": {
            "text/plain": [
              "True"
            ]
          },
          "metadata": {},
          "execution_count": 2
        }
      ]
    },
    {
      "cell_type": "markdown",
      "source": [
        "Sử dụng GPU và Cuda"
      ],
      "metadata": {
        "id": "W33TSxhoVy3V"
      }
    },
    {
      "cell_type": "code",
      "source": [
        "torch.cuda.current_device()"
      ],
      "metadata": {
        "colab": {
          "base_uri": "https://localhost:8080/"
        },
        "id": "GQZnsjMoVwIB",
        "outputId": "f479f0eb-b719-4c76-fd6d-f5058262f3cd"
      },
      "execution_count": null,
      "outputs": [
        {
          "output_type": "execute_result",
          "data": {
            "text/plain": [
              "0"
            ]
          },
          "metadata": {},
          "execution_count": 4
        }
      ]
    },
    {
      "cell_type": "code",
      "source": [
        "torch.cuda.get_device_name(0)"
      ],
      "metadata": {
        "colab": {
          "base_uri": "https://localhost:8080/",
          "height": 35
        },
        "id": "5gets_jDWCB0",
        "outputId": "59086447-5fc5-46df-a27e-c8ee5102fd23"
      },
      "execution_count": null,
      "outputs": [
        {
          "output_type": "execute_result",
          "data": {
            "text/plain": [
              "'Tesla T4'"
            ],
            "application/vnd.google.colaboratory.intrinsic+json": {
              "type": "string"
            }
          },
          "metadata": {},
          "execution_count": 5
        }
      ]
    },
    {
      "cell_type": "code",
      "source": [
        "# trả về mức sử dụng bộ nhớ gpu hiện taijtheo tensors tính bằng byte cho thiết bị\n",
        "torch.cuda.memory_allocated()"
      ],
      "metadata": {
        "colab": {
          "base_uri": "https://localhost:8080/"
        },
        "id": "D9ADPdopWufy",
        "outputId": "e04e3bb2-05ac-4766-cd4f-3014632bbd8a"
      },
      "execution_count": null,
      "outputs": [
        {
          "output_type": "execute_result",
          "data": {
            "text/plain": [
              "0"
            ]
          },
          "metadata": {},
          "execution_count": 6
        }
      ]
    },
    {
      "cell_type": "code",
      "source": [
        "# trả về bộ nhớ gpu hiện tại được quản lý bởi bộ phân bổ bộ nhớ đệm hiện tại\n",
        "torch.cuda.memory_cached()"
      ],
      "metadata": {
        "colab": {
          "base_uri": "https://localhost:8080/"
        },
        "id": "Qo5z1SwtXBK6",
        "outputId": "0fc4f234-578c-49d9-a7b5-cd0dd515d11b"
      },
      "execution_count": null,
      "outputs": [
        {
          "output_type": "stream",
          "name": "stderr",
          "text": [
            "<ipython-input-7-107e6c788df7>:2: FutureWarning: `torch.cuda.memory_cached` has been renamed to `torch.cuda.memory_reserved`\n",
            "  torch.cuda.memory_cached()\n"
          ]
        },
        {
          "output_type": "execute_result",
          "data": {
            "text/plain": [
              "0"
            ]
          },
          "metadata": {},
          "execution_count": 7
        }
      ]
    },
    {
      "cell_type": "markdown",
      "source": [
        "Dataset with Pytorch"
      ],
      "metadata": {
        "id": "eujsauMAXp2M"
      }
    },
    {
      "cell_type": "code",
      "source": [
        "# loading data Iris\n",
        "import pandas as pd\n",
        "from sklearn.datasets import load_iris\n",
        "\n",
        "iris = load_iris()\n",
        "df = pd.DataFrame(iris.data, columns=iris.feature_names)\n",
        "\n",
        "print(df.head())  # Hiển thị 5 dòng đầu tiên"
      ],
      "metadata": {
        "colab": {
          "base_uri": "https://localhost:8080/"
        },
        "id": "fBlclI0gXl_c",
        "outputId": "3d3c04bc-da44-4576-b3fc-5d94773c6c3b"
      },
      "execution_count": null,
      "outputs": [
        {
          "output_type": "stream",
          "name": "stdout",
          "text": [
            "   sepal length (cm)  sepal width (cm)  petal length (cm)  petal width (cm)\n",
            "0                5.1               3.5                1.4               0.2\n",
            "1                4.9               3.0                1.4               0.2\n",
            "2                4.7               3.2                1.3               0.2\n",
            "3                4.6               3.1                1.5               0.2\n",
            "4                5.0               3.6                1.4               0.2\n"
          ]
        }
      ]
    },
    {
      "cell_type": "code",
      "source": [
        "import torch\n",
        "import numpy as np\n",
        "import pandas as pd\n",
        "import matplotlib.pyplot as plt\n",
        "\n",
        "df = pd.read_csv('Iris.csv')\n",
        "df.head()"
      ],
      "metadata": {
        "colab": {
          "base_uri": "https://localhost:8080/",
          "height": 206
        },
        "id": "-dwZhqP4Y8z9",
        "outputId": "3d4cf44a-ab06-428f-a8e5-3ecbc158d01e"
      },
      "execution_count": null,
      "outputs": [
        {
          "output_type": "execute_result",
          "data": {
            "text/plain": [
              "   Id  SepalLengthCm  SepalWidthCm  PetalLengthCm  PetalWidthCm      Species\n",
              "0   1            5.1           3.5            1.4           0.2  Iris-setosa\n",
              "1   2            4.9           3.0            1.4           0.2  Iris-setosa\n",
              "2   3            4.7           3.2            1.3           0.2  Iris-setosa\n",
              "3   4            4.6           3.1            1.5           0.2  Iris-setosa\n",
              "4   5            5.0           3.6            1.4           0.2  Iris-setosa"
            ],
            "text/html": [
              "\n",
              "  <div id=\"df-d0d82a6f-0894-4381-8c05-847ea5cd97d6\" class=\"colab-df-container\">\n",
              "    <div>\n",
              "<style scoped>\n",
              "    .dataframe tbody tr th:only-of-type {\n",
              "        vertical-align: middle;\n",
              "    }\n",
              "\n",
              "    .dataframe tbody tr th {\n",
              "        vertical-align: top;\n",
              "    }\n",
              "\n",
              "    .dataframe thead th {\n",
              "        text-align: right;\n",
              "    }\n",
              "</style>\n",
              "<table border=\"1\" class=\"dataframe\">\n",
              "  <thead>\n",
              "    <tr style=\"text-align: right;\">\n",
              "      <th></th>\n",
              "      <th>Id</th>\n",
              "      <th>SepalLengthCm</th>\n",
              "      <th>SepalWidthCm</th>\n",
              "      <th>PetalLengthCm</th>\n",
              "      <th>PetalWidthCm</th>\n",
              "      <th>Species</th>\n",
              "    </tr>\n",
              "  </thead>\n",
              "  <tbody>\n",
              "    <tr>\n",
              "      <th>0</th>\n",
              "      <td>1</td>\n",
              "      <td>5.1</td>\n",
              "      <td>3.5</td>\n",
              "      <td>1.4</td>\n",
              "      <td>0.2</td>\n",
              "      <td>Iris-setosa</td>\n",
              "    </tr>\n",
              "    <tr>\n",
              "      <th>1</th>\n",
              "      <td>2</td>\n",
              "      <td>4.9</td>\n",
              "      <td>3.0</td>\n",
              "      <td>1.4</td>\n",
              "      <td>0.2</td>\n",
              "      <td>Iris-setosa</td>\n",
              "    </tr>\n",
              "    <tr>\n",
              "      <th>2</th>\n",
              "      <td>3</td>\n",
              "      <td>4.7</td>\n",
              "      <td>3.2</td>\n",
              "      <td>1.3</td>\n",
              "      <td>0.2</td>\n",
              "      <td>Iris-setosa</td>\n",
              "    </tr>\n",
              "    <tr>\n",
              "      <th>3</th>\n",
              "      <td>4</td>\n",
              "      <td>4.6</td>\n",
              "      <td>3.1</td>\n",
              "      <td>1.5</td>\n",
              "      <td>0.2</td>\n",
              "      <td>Iris-setosa</td>\n",
              "    </tr>\n",
              "    <tr>\n",
              "      <th>4</th>\n",
              "      <td>5</td>\n",
              "      <td>5.0</td>\n",
              "      <td>3.6</td>\n",
              "      <td>1.4</td>\n",
              "      <td>0.2</td>\n",
              "      <td>Iris-setosa</td>\n",
              "    </tr>\n",
              "  </tbody>\n",
              "</table>\n",
              "</div>\n",
              "    <div class=\"colab-df-buttons\">\n",
              "\n",
              "  <div class=\"colab-df-container\">\n",
              "    <button class=\"colab-df-convert\" onclick=\"convertToInteractive('df-d0d82a6f-0894-4381-8c05-847ea5cd97d6')\"\n",
              "            title=\"Convert this dataframe to an interactive table.\"\n",
              "            style=\"display:none;\">\n",
              "\n",
              "  <svg xmlns=\"http://www.w3.org/2000/svg\" height=\"24px\" viewBox=\"0 -960 960 960\">\n",
              "    <path d=\"M120-120v-720h720v720H120Zm60-500h600v-160H180v160Zm220 220h160v-160H400v160Zm0 220h160v-160H400v160ZM180-400h160v-160H180v160Zm440 0h160v-160H620v160ZM180-180h160v-160H180v160Zm440 0h160v-160H620v160Z\"/>\n",
              "  </svg>\n",
              "    </button>\n",
              "\n",
              "  <style>\n",
              "    .colab-df-container {\n",
              "      display:flex;\n",
              "      gap: 12px;\n",
              "    }\n",
              "\n",
              "    .colab-df-convert {\n",
              "      background-color: #E8F0FE;\n",
              "      border: none;\n",
              "      border-radius: 50%;\n",
              "      cursor: pointer;\n",
              "      display: none;\n",
              "      fill: #1967D2;\n",
              "      height: 32px;\n",
              "      padding: 0 0 0 0;\n",
              "      width: 32px;\n",
              "    }\n",
              "\n",
              "    .colab-df-convert:hover {\n",
              "      background-color: #E2EBFA;\n",
              "      box-shadow: 0px 1px 2px rgba(60, 64, 67, 0.3), 0px 1px 3px 1px rgba(60, 64, 67, 0.15);\n",
              "      fill: #174EA6;\n",
              "    }\n",
              "\n",
              "    .colab-df-buttons div {\n",
              "      margin-bottom: 4px;\n",
              "    }\n",
              "\n",
              "    [theme=dark] .colab-df-convert {\n",
              "      background-color: #3B4455;\n",
              "      fill: #D2E3FC;\n",
              "    }\n",
              "\n",
              "    [theme=dark] .colab-df-convert:hover {\n",
              "      background-color: #434B5C;\n",
              "      box-shadow: 0px 1px 3px 1px rgba(0, 0, 0, 0.15);\n",
              "      filter: drop-shadow(0px 1px 2px rgba(0, 0, 0, 0.3));\n",
              "      fill: #FFFFFF;\n",
              "    }\n",
              "  </style>\n",
              "\n",
              "    <script>\n",
              "      const buttonEl =\n",
              "        document.querySelector('#df-d0d82a6f-0894-4381-8c05-847ea5cd97d6 button.colab-df-convert');\n",
              "      buttonEl.style.display =\n",
              "        google.colab.kernel.accessAllowed ? 'block' : 'none';\n",
              "\n",
              "      async function convertToInteractive(key) {\n",
              "        const element = document.querySelector('#df-d0d82a6f-0894-4381-8c05-847ea5cd97d6');\n",
              "        const dataTable =\n",
              "          await google.colab.kernel.invokeFunction('convertToInteractive',\n",
              "                                                    [key], {});\n",
              "        if (!dataTable) return;\n",
              "\n",
              "        const docLinkHtml = 'Like what you see? Visit the ' +\n",
              "          '<a target=\"_blank\" href=https://colab.research.google.com/notebooks/data_table.ipynb>data table notebook</a>'\n",
              "          + ' to learn more about interactive tables.';\n",
              "        element.innerHTML = '';\n",
              "        dataTable['output_type'] = 'display_data';\n",
              "        await google.colab.output.renderOutput(dataTable, element);\n",
              "        const docLink = document.createElement('div');\n",
              "        docLink.innerHTML = docLinkHtml;\n",
              "        element.appendChild(docLink);\n",
              "      }\n",
              "    </script>\n",
              "  </div>\n",
              "\n",
              "\n",
              "<div id=\"df-510dde86-6003-4830-a080-db7ce21a36c6\">\n",
              "  <button class=\"colab-df-quickchart\" onclick=\"quickchart('df-510dde86-6003-4830-a080-db7ce21a36c6')\"\n",
              "            title=\"Suggest charts\"\n",
              "            style=\"display:none;\">\n",
              "\n",
              "<svg xmlns=\"http://www.w3.org/2000/svg\" height=\"24px\"viewBox=\"0 0 24 24\"\n",
              "     width=\"24px\">\n",
              "    <g>\n",
              "        <path d=\"M19 3H5c-1.1 0-2 .9-2 2v14c0 1.1.9 2 2 2h14c1.1 0 2-.9 2-2V5c0-1.1-.9-2-2-2zM9 17H7v-7h2v7zm4 0h-2V7h2v10zm4 0h-2v-4h2v4z\"/>\n",
              "    </g>\n",
              "</svg>\n",
              "  </button>\n",
              "\n",
              "<style>\n",
              "  .colab-df-quickchart {\n",
              "      --bg-color: #E8F0FE;\n",
              "      --fill-color: #1967D2;\n",
              "      --hover-bg-color: #E2EBFA;\n",
              "      --hover-fill-color: #174EA6;\n",
              "      --disabled-fill-color: #AAA;\n",
              "      --disabled-bg-color: #DDD;\n",
              "  }\n",
              "\n",
              "  [theme=dark] .colab-df-quickchart {\n",
              "      --bg-color: #3B4455;\n",
              "      --fill-color: #D2E3FC;\n",
              "      --hover-bg-color: #434B5C;\n",
              "      --hover-fill-color: #FFFFFF;\n",
              "      --disabled-bg-color: #3B4455;\n",
              "      --disabled-fill-color: #666;\n",
              "  }\n",
              "\n",
              "  .colab-df-quickchart {\n",
              "    background-color: var(--bg-color);\n",
              "    border: none;\n",
              "    border-radius: 50%;\n",
              "    cursor: pointer;\n",
              "    display: none;\n",
              "    fill: var(--fill-color);\n",
              "    height: 32px;\n",
              "    padding: 0;\n",
              "    width: 32px;\n",
              "  }\n",
              "\n",
              "  .colab-df-quickchart:hover {\n",
              "    background-color: var(--hover-bg-color);\n",
              "    box-shadow: 0 1px 2px rgba(60, 64, 67, 0.3), 0 1px 3px 1px rgba(60, 64, 67, 0.15);\n",
              "    fill: var(--button-hover-fill-color);\n",
              "  }\n",
              "\n",
              "  .colab-df-quickchart-complete:disabled,\n",
              "  .colab-df-quickchart-complete:disabled:hover {\n",
              "    background-color: var(--disabled-bg-color);\n",
              "    fill: var(--disabled-fill-color);\n",
              "    box-shadow: none;\n",
              "  }\n",
              "\n",
              "  .colab-df-spinner {\n",
              "    border: 2px solid var(--fill-color);\n",
              "    border-color: transparent;\n",
              "    border-bottom-color: var(--fill-color);\n",
              "    animation:\n",
              "      spin 1s steps(1) infinite;\n",
              "  }\n",
              "\n",
              "  @keyframes spin {\n",
              "    0% {\n",
              "      border-color: transparent;\n",
              "      border-bottom-color: var(--fill-color);\n",
              "      border-left-color: var(--fill-color);\n",
              "    }\n",
              "    20% {\n",
              "      border-color: transparent;\n",
              "      border-left-color: var(--fill-color);\n",
              "      border-top-color: var(--fill-color);\n",
              "    }\n",
              "    30% {\n",
              "      border-color: transparent;\n",
              "      border-left-color: var(--fill-color);\n",
              "      border-top-color: var(--fill-color);\n",
              "      border-right-color: var(--fill-color);\n",
              "    }\n",
              "    40% {\n",
              "      border-color: transparent;\n",
              "      border-right-color: var(--fill-color);\n",
              "      border-top-color: var(--fill-color);\n",
              "    }\n",
              "    60% {\n",
              "      border-color: transparent;\n",
              "      border-right-color: var(--fill-color);\n",
              "    }\n",
              "    80% {\n",
              "      border-color: transparent;\n",
              "      border-right-color: var(--fill-color);\n",
              "      border-bottom-color: var(--fill-color);\n",
              "    }\n",
              "    90% {\n",
              "      border-color: transparent;\n",
              "      border-bottom-color: var(--fill-color);\n",
              "    }\n",
              "  }\n",
              "</style>\n",
              "\n",
              "  <script>\n",
              "    async function quickchart(key) {\n",
              "      const quickchartButtonEl =\n",
              "        document.querySelector('#' + key + ' button');\n",
              "      quickchartButtonEl.disabled = true;  // To prevent multiple clicks.\n",
              "      quickchartButtonEl.classList.add('colab-df-spinner');\n",
              "      try {\n",
              "        const charts = await google.colab.kernel.invokeFunction(\n",
              "            'suggestCharts', [key], {});\n",
              "      } catch (error) {\n",
              "        console.error('Error during call to suggestCharts:', error);\n",
              "      }\n",
              "      quickchartButtonEl.classList.remove('colab-df-spinner');\n",
              "      quickchartButtonEl.classList.add('colab-df-quickchart-complete');\n",
              "    }\n",
              "    (() => {\n",
              "      let quickchartButtonEl =\n",
              "        document.querySelector('#df-510dde86-6003-4830-a080-db7ce21a36c6 button');\n",
              "      quickchartButtonEl.style.display =\n",
              "        google.colab.kernel.accessAllowed ? 'block' : 'none';\n",
              "    })();\n",
              "  </script>\n",
              "</div>\n",
              "\n",
              "    </div>\n",
              "  </div>\n"
            ],
            "application/vnd.google.colaboratory.intrinsic+json": {
              "type": "dataframe",
              "variable_name": "df",
              "summary": "{\n  \"name\": \"df\",\n  \"rows\": 150,\n  \"fields\": [\n    {\n      \"column\": \"Id\",\n      \"properties\": {\n        \"dtype\": \"number\",\n        \"std\": 43,\n        \"min\": 1,\n        \"max\": 150,\n        \"num_unique_values\": 150,\n        \"samples\": [\n          74,\n          19,\n          119\n        ],\n        \"semantic_type\": \"\",\n        \"description\": \"\"\n      }\n    },\n    {\n      \"column\": \"SepalLengthCm\",\n      \"properties\": {\n        \"dtype\": \"number\",\n        \"std\": 0.8280661279778629,\n        \"min\": 4.3,\n        \"max\": 7.9,\n        \"num_unique_values\": 35,\n        \"samples\": [\n          6.2,\n          4.5,\n          5.6\n        ],\n        \"semantic_type\": \"\",\n        \"description\": \"\"\n      }\n    },\n    {\n      \"column\": \"SepalWidthCm\",\n      \"properties\": {\n        \"dtype\": \"number\",\n        \"std\": 0.4335943113621737,\n        \"min\": 2.0,\n        \"max\": 4.4,\n        \"num_unique_values\": 23,\n        \"samples\": [\n          2.3,\n          4.0,\n          3.5\n        ],\n        \"semantic_type\": \"\",\n        \"description\": \"\"\n      }\n    },\n    {\n      \"column\": \"PetalLengthCm\",\n      \"properties\": {\n        \"dtype\": \"number\",\n        \"std\": 1.7644204199522617,\n        \"min\": 1.0,\n        \"max\": 6.9,\n        \"num_unique_values\": 43,\n        \"samples\": [\n          6.7,\n          3.8,\n          3.7\n        ],\n        \"semantic_type\": \"\",\n        \"description\": \"\"\n      }\n    },\n    {\n      \"column\": \"PetalWidthCm\",\n      \"properties\": {\n        \"dtype\": \"number\",\n        \"std\": 0.7631607417008414,\n        \"min\": 0.1,\n        \"max\": 2.5,\n        \"num_unique_values\": 22,\n        \"samples\": [\n          0.2,\n          1.2,\n          1.3\n        ],\n        \"semantic_type\": \"\",\n        \"description\": \"\"\n      }\n    },\n    {\n      \"column\": \"Species\",\n      \"properties\": {\n        \"dtype\": \"category\",\n        \"num_unique_values\": 3,\n        \"samples\": [\n          \"Iris-setosa\",\n          \"Iris-versicolor\",\n          \"Iris-virginica\"\n        ],\n        \"semantic_type\": \"\",\n        \"description\": \"\"\n      }\n    }\n  ]\n}"
            }
          },
          "metadata": {},
          "execution_count": 11
        }
      ]
    },
    {
      "cell_type": "code",
      "source": [
        "# xem bao nhiêu hàng nhiu cột\n",
        "df.shape"
      ],
      "metadata": {
        "colab": {
          "base_uri": "https://localhost:8080/"
        },
        "id": "vExWNJncZ1g3",
        "outputId": "c93ebd24-f5f0-4e84-cf32-8331c5603c42"
      },
      "execution_count": null,
      "outputs": [
        {
          "output_type": "execute_result",
          "data": {
            "text/plain": [
              "(150, 6)"
            ]
          },
          "metadata": {},
          "execution_count": 12
        }
      ]
    },
    {
      "cell_type": "code",
      "source": [
        "from sklearn.preprocessing import LabelEncoder\n",
        "from sklearn.model_selection import train_test_split\n",
        "\n",
        "le = LabelEncoder()\n",
        "X = df.drop(['Id','Species'], axis=1).values\n",
        "y = le.fit_transform(df['Species'].values)\n",
        "\n",
        "# chia dữ liệu với test size = 0.2\n",
        "X_train, X_test, y_train, y_test = train_test_split(X, y, test_size=0.2, random_state=42)\n",
        "\n",
        "X_train = torch.FloatTensor(X_train)\n",
        "X_test = torch.FloatTensor(X_test)\n",
        "y_train = torch.LongTensor(y_train).reshape(-1, 1)\n",
        "y_test = torch.LongTensor(y_test).reshape(-1, 1)"
      ],
      "metadata": {
        "id": "ywREyBwxaRoN"
      },
      "execution_count": null,
      "outputs": []
    },
    {
      "cell_type": "code",
      "source": [
        "print(f\"train size {len(X_train)}\")"
      ],
      "metadata": {
        "colab": {
          "base_uri": "https://localhost:8080/"
        },
        "id": "swTjleDocLlK",
        "outputId": "2f04f79e-6a83-4926-8cbb-d08151e34873"
      },
      "execution_count": null,
      "outputs": [
        {
          "output_type": "stream",
          "name": "stdout",
          "text": [
            "train size 120\n"
          ]
        }
      ]
    },
    {
      "cell_type": "code",
      "source": [
        "labels, counts = np.unique(y_train, return_counts=True)\n",
        "print(labels, counts)"
      ],
      "metadata": {
        "colab": {
          "base_uri": "https://localhost:8080/"
        },
        "id": "r_2s7lGFcmw3",
        "outputId": "15d25b3a-bf97-43f3-c250-ad13b2631ddd"
      },
      "execution_count": null,
      "outputs": [
        {
          "output_type": "stream",
          "name": "stdout",
          "text": [
            "[0 1 2] [40 41 39]\n"
          ]
        }
      ]
    },
    {
      "cell_type": "code",
      "source": [
        "# Tính đạo hàm bằng pytorch\n",
        "\n",
        "# Cho y = 2x^4 + x^3 + 3x^2 + 5x +1\n",
        "# tính y'\n",
        "\n",
        "import torch"
      ],
      "metadata": {
        "id": "-cATi7v8da4E"
      },
      "execution_count": 2,
      "outputs": []
    },
    {
      "cell_type": "code",
      "source": [
        "# Tạo một tensor với requirments_grad được đặt thành true\n",
        "\n",
        "x = torch.tensor(2.0, requires_grad=True)\n",
        "print(x)\n",
        "print(x.grad)"
      ],
      "metadata": {
        "colab": {
          "base_uri": "https://localhost:8080/"
        },
        "id": "5umtWH4keLnR",
        "outputId": "5e7f2647-6f4a-4bf1-e47f-5744467d0487"
      },
      "execution_count": 3,
      "outputs": [
        {
          "output_type": "stream",
          "name": "stdout",
          "text": [
            "tensor(2., requires_grad=True)\n",
            "None\n"
          ]
        }
      ]
    },
    {
      "cell_type": "code",
      "source": [
        "# định nghĩa hàm\n",
        "y = 2*x**4 + x**3 + 3*x**2 + 5*x + 1\n",
        "print(y)"
      ],
      "metadata": {
        "colab": {
          "base_uri": "https://localhost:8080/"
        },
        "id": "UihVGXHnemZ-",
        "outputId": "2f35dbeb-c269-4b99-dab1-85f3bf56c1b8"
      },
      "execution_count": 4,
      "outputs": [
        {
          "output_type": "stream",
          "name": "stdout",
          "text": [
            "tensor(63., grad_fn=<AddBackward0>)\n"
          ]
        }
      ]
    },
    {
      "cell_type": "code",
      "source": [
        "y.grad_fn"
      ],
      "metadata": {
        "colab": {
          "base_uri": "https://localhost:8080/"
        },
        "id": "LUdqrhSQe1vL",
        "outputId": "85165697-27be-4db6-8cab-e2340e2042b5"
      },
      "execution_count": null,
      "outputs": [
        {
          "output_type": "execute_result",
          "data": {
            "text/plain": [
              "<AddBackward0 at 0x79f7a0a26e60>"
            ]
          },
          "metadata": {},
          "execution_count": 22
        }
      ]
    },
    {
      "cell_type": "code",
      "source": [
        "# Thực hiện truyền ngược và tính toán các gradient\n",
        "y.backward()"
      ],
      "metadata": {
        "id": "m1aINPZ2e7nd"
      },
      "execution_count": null,
      "outputs": []
    },
    {
      "cell_type": "code",
      "source": [
        "# Kết quả đạo hàm\n",
        "print(x.grad)"
      ],
      "metadata": {
        "colab": {
          "base_uri": "https://localhost:8080/"
        },
        "id": "qtO-iVcTfRp8",
        "outputId": "6bb956f8-f4b7-497d-ca33-d5e290ccefdf"
      },
      "execution_count": null,
      "outputs": [
        {
          "output_type": "stream",
          "name": "stdout",
          "text": [
            "tensor(93.)\n"
          ]
        }
      ]
    },
    {
      "cell_type": "markdown",
      "source": [
        "BT\n",
        "1. Tính y' của y = 5x^6 +3x^3 + 2x^1 +x +2x +5x^4 +1\n",
        "2. Tìm độ dốc của đa thức trên tại điểm nào\n"
      ],
      "metadata": {
        "id": "oaPczJ7rfq0R"
      }
    },
    {
      "cell_type": "code",
      "source": [
        "# Tính y' của y = 5x^6 +3x^3 + 2x^1 +x +2x +5^4 +1\n",
        "import torch\n",
        "x = torch.tensor(1.0, requires_grad=True)\n",
        "y = 5*x**6 + 3*x**3 + 2*x**1 + x + 2*x + 5*x**4 + 1\n",
        "\n",
        "# Tìm độ dốc của đa thức trên tại điểm nào\n",
        "print(f\"Giá trị của y tại x=1: {y.item()}\")\n",
        "\n",
        "# đáp án x = 1, y =19"
      ],
      "metadata": {
        "colab": {
          "base_uri": "https://localhost:8080/"
        },
        "id": "b3HMU39rgLyT",
        "outputId": "189d0c1b-eac7-4cea-914a-f864c67f2e73"
      },
      "execution_count": 9,
      "outputs": [
        {
          "output_type": "stream",
          "name": "stdout",
          "text": [
            "Giá trị của y tại x=1: 19.0\n"
          ]
        }
      ]
    },
    {
      "cell_type": "markdown",
      "source": [
        "BTVN 1:\n",
        "1. Tạo một tensor x có giá trị ban đầu là 2.0. định nghĩa hàm số:\n",
        "- Tính gradient\n",
        "- y = x^3 + 2x^2 +5x +1\n",
        "- Hãy tính dy/dx tại giá trị của x\n",
        "- Dùng phương phóa Gradient Descent với learning rate alpha = 0.1 để cập nhật giá trị x trong 10 vòng\n",
        "\n",
        "BTVN 2:\n",
        "Tạo một tập dữ liệu giả lập với x là số giờ học(ngẫu nhiên từ 1 tới 10) và y là số điểm được tính theo công thức y = 3x +5 + noise\n",
        "Với noise là một giá trị ngẫu nhiên nhỏ\n",
        "1. Khởi tạo tham số w và b ngẫu nhiên với requires_grad=True\n",
        "2. Tính MSE\n",
        "3. Tính gradient\n",
        "4. Cập nhật tham số w và b bằng grandient Descent với Learning rate alpha = 0.01\n",
        "5. Lặp lại quá trình trên trong 100 vòng lặp và quan sát sự hội tụ mô hình\n"
      ],
      "metadata": {
        "id": "z_idJ9vBiADc"
      }
    },
    {
      "cell_type": "code",
      "source": [
        "# BTVN 1:\n",
        "import torch\n",
        "\n",
        "# Khởi tạo x và yêu cầu tính gradient\n",
        "x = torch.tensor(2.0, requires_grad=True)\n",
        "\n",
        "# Learning rate và số vòng lặp\n",
        "alpha = 0.1\n",
        "num_iterations = 10\n",
        "\n",
        "# Quá trình Gradient Descent\n",
        "for i in range(num_iterations):\n",
        "    y = x**3 + 2*x**2 + 5*x + 1  # Tính giá trị hàm số\n",
        "    y.backward()  # Tính đạo hàm dy/dx\n",
        "    gradient = x.grad.item()  # Lưu lại giá trị đạo hàm\n",
        "\n",
        "    with torch.no_grad():  # Cập nhật x mà không tính gradient\n",
        "        x -= alpha * x.grad\n",
        "\n",
        "    x.grad.zero_()  # Reset gradient để tránh cộng dồn\n",
        "\n",
        "    print(f\"Vòng {i+1}: x = {x.item():.4f}, Gradient = {gradient:.4f}\")\n",
        "\n",
        "print(\"Cập nhật hoàn tất!\")"
      ],
      "metadata": {
        "colab": {
          "base_uri": "https://localhost:8080/"
        },
        "id": "-OYwIjAGhNfT",
        "outputId": "6961a1e9-0f42-421b-a116-b964d1316253"
      },
      "execution_count": 24,
      "outputs": [
        {
          "output_type": "stream",
          "name": "stdout",
          "text": [
            "Vòng 1: x = -0.5000, Gradient = 25.0000\n",
            "Vòng 2: x = -0.8750, Gradient = 3.7500\n",
            "Vòng 3: x = -1.2547, Gradient = 3.7969\n",
            "Vòng 4: x = -1.7251, Gradient = 4.7040\n",
            "Vòng 5: x = -2.4278, Gradient = 7.0274\n",
            "Vòng 6: x = -3.7250, Gradient = 12.9717\n",
            "Vòng 7: x = -6.8977, Gradient = 31.7268\n",
            "Vòng 8: x = -18.9120, Gradient = 120.1433\n",
            "Vòng 9: x = -119.1464, Gradient = 1002.3439\n",
            "Vòng 10: x = -4330.7476, Gradient = 42116.0117\n",
            "Cập nhật hoàn tất!\n"
          ]
        }
      ]
    },
    {
      "cell_type": "code",
      "source": [
        "# BTVN2\n",
        "import torch\n",
        "\n",
        "# Tạo dữ liệu giả lập\n",
        "torch.manual_seed(42)  # Để kết quả ngẫu nhiên có thể tái lập\n",
        "x = torch.randint(1, 11, (20,), dtype=torch.float32)  # 20 giá trị x từ 1 đến 10\n",
        "noise = torch.randn(20)  # Nhiễu ngẫu nhiên\n",
        "y = 3 * x + 5 + noise  # Công thức y = 3x + 5 + noise\n",
        "\n",
        "# Khởi tạo tham số w, b ngẫu nhiên\n",
        "w = torch.randn(1, requires_grad=True)\n",
        "b = torch.randn(1, requires_grad=True)\n",
        "\n",
        "# Learning rate và số vòng lặp\n",
        "alpha = 0.01\n",
        "num_iterations = 100\n",
        "\n",
        "# Gradient Descent\n",
        "for i in range(num_iterations):\n",
        "    # Dự đoán y\n",
        "    y_pred = w * x + b\n",
        "\n",
        "    # Tính Mean Squared Error (MSE)\n",
        "    loss = ((y_pred - y) ** 2).mean()\n",
        "\n",
        "    # Tính gradient\n",
        "    loss.backward()\n",
        "\n",
        "    # Cập nhật w, b\n",
        "    with torch.no_grad():\n",
        "        w -= alpha * w.grad\n",
        "        b -= alpha * b.grad\n",
        "\n",
        "    # Reset gradient\n",
        "    w.grad.zero_()\n",
        "    b.grad.zero_()\n",
        "\n",
        "    # In loss mỗi 10 vòng\n",
        "    if (i + 1) % 10 == 0:\n",
        "        print(f\"Vòng {i+1}: MSE = {loss.item():.4f}, w = {w.item():.4f}, b = {b.item():.4f}\")\n",
        "\n",
        "print(\"Huấn luyện hoàn tất!\")\n",
        "print(f\"Trọng số cuối cùng: w = {w.item():.4f}, b = {b.item():.4f}\")"
      ],
      "metadata": {
        "colab": {
          "base_uri": "https://localhost:8080/"
        },
        "id": "pbBxzlVHhrBz",
        "outputId": "03373d2f-1f31-4e24-eeb3-dcc018b260fa"
      },
      "execution_count": 26,
      "outputs": [
        {
          "output_type": "stream",
          "name": "stdout",
          "text": [
            "Vòng 10: MSE = 5.0599, w = 3.6198, b = 1.3066\n",
            "Vòng 20: MSE = 4.7781, w = 3.5928, b = 1.4718\n",
            "Vòng 30: MSE = 4.5164, w = 3.5666, b = 1.6310\n",
            "Vòng 40: MSE = 4.2734, w = 3.5414, b = 1.7843\n",
            "Vòng 50: MSE = 4.0478, w = 3.5170, b = 1.9321\n",
            "Vòng 60: MSE = 3.8383, w = 3.4936, b = 2.0745\n",
            "Vòng 70: MSE = 3.6438, w = 3.4710, b = 2.2118\n",
            "Vòng 80: MSE = 3.4632, w = 3.4492, b = 2.3440\n",
            "Vòng 90: MSE = 3.2955, w = 3.4282, b = 2.4714\n",
            "Vòng 100: MSE = 3.1397, w = 3.4080, b = 2.5942\n",
            "Huấn luyện hoàn tất!\n",
            "Trọng số cuối cùng: w = 3.4080, b = 2.5942\n"
          ]
        }
      ]
    },
    {
      "cell_type": "code",
      "source": [
        "# pytorch with tensor\n",
        "import torch\n",
        "import numpy as np\n",
        "\n",
        "torch.__version__"
      ],
      "metadata": {
        "colab": {
          "base_uri": "https://localhost:8080/",
          "height": 35
        },
        "id": "iZ31dGlOkFrC",
        "outputId": "a863d463-bf96-4b54-b1ed-d2723131fb88"
      },
      "execution_count": 10,
      "outputs": [
        {
          "output_type": "execute_result",
          "data": {
            "text/plain": [
              "'2.5.1+cu124'"
            ],
            "application/vnd.google.colaboratory.intrinsic+json": {
              "type": "string"
            }
          },
          "metadata": {},
          "execution_count": 10
        }
      ]
    },
    {
      "cell_type": "code",
      "source": [
        "# Chuyển đổi mảng numpy sang tensor pytorch\n",
        "arr = np.array([1,2,3,4,5])\n",
        "print(arr)\n",
        "print(arr.dtype)\n",
        "print(type(arr))"
      ],
      "metadata": {
        "colab": {
          "base_uri": "https://localhost:8080/"
        },
        "id": "s-HTyHKtkfjF",
        "outputId": "e41b3d41-5c63-4220-fae8-8b476b9e2ebc"
      },
      "execution_count": 11,
      "outputs": [
        {
          "output_type": "stream",
          "name": "stdout",
          "text": [
            "[1 2 3 4 5]\n",
            "int64\n",
            "<class 'numpy.ndarray'>\n"
          ]
        }
      ]
    },
    {
      "cell_type": "code",
      "source": [
        "x = torch.from_numpy(arr)\n",
        "print(x)\n",
        "print(x.dtype)\n",
        "print(type(x))"
      ],
      "metadata": {
        "colab": {
          "base_uri": "https://localhost:8080/"
        },
        "id": "JZPEu13vkyz8",
        "outputId": "b554d5cf-2d86-4b61-9af7-f6800e0b1e60"
      },
      "execution_count": 12,
      "outputs": [
        {
          "output_type": "stream",
          "name": "stdout",
          "text": [
            "tensor([1, 2, 3, 4, 5])\n",
            "torch.int64\n",
            "<class 'torch.Tensor'>\n"
          ]
        }
      ]
    },
    {
      "cell_type": "code",
      "source": [
        "arr2 = np.arange(0,12).reshape(4,3)\n",
        "print(arr2)"
      ],
      "metadata": {
        "colab": {
          "base_uri": "https://localhost:8080/"
        },
        "id": "kRfZFrvEk-Lg",
        "outputId": "574b54c1-4d84-4ed6-8f59-a4eba72413db"
      },
      "execution_count": 13,
      "outputs": [
        {
          "output_type": "stream",
          "name": "stdout",
          "text": [
            "[[ 0  1  2]\n",
            " [ 3  4  5]\n",
            " [ 6  7  8]\n",
            " [ 9 10 11]]\n"
          ]
        }
      ]
    },
    {
      "cell_type": "code",
      "source": [
        "x2 = torch.from_numpy(arr2)\n",
        "print(x2)\n",
        "print(x2.dtype)\n",
        "print(x2.type())"
      ],
      "metadata": {
        "colab": {
          "base_uri": "https://localhost:8080/"
        },
        "id": "Hk6W5dYQlrWx",
        "outputId": "b3ff0d7f-cb33-4609-e4e7-721cd4538efe"
      },
      "execution_count": 14,
      "outputs": [
        {
          "output_type": "stream",
          "name": "stdout",
          "text": [
            "tensor([[ 0,  1,  2],\n",
            "        [ 3,  4,  5],\n",
            "        [ 6,  7,  8],\n",
            "        [ 9, 10, 11]])\n",
            "torch.int64\n",
            "torch.LongTensor\n"
          ]
        }
      ]
    },
    {
      "cell_type": "markdown",
      "source": [
        "Copy and sharring"
      ],
      "metadata": {
        "id": "BPSOr45bnY3_"
      }
    },
    {
      "cell_type": "code",
      "source": [
        "arr = np.arange(0,5)\n",
        "x = torch.from_numpy(arr)\n",
        "print(x)\n",
        "print(arr)"
      ],
      "metadata": {
        "colab": {
          "base_uri": "https://localhost:8080/"
        },
        "id": "gDQTCsb5mGpa",
        "outputId": "0e01a0f1-109b-4faa-889e-a3e70406c28a"
      },
      "execution_count": 15,
      "outputs": [
        {
          "output_type": "stream",
          "name": "stdout",
          "text": [
            "tensor([0, 1, 2, 3, 4])\n",
            "[0 1 2 3 4]\n"
          ]
        }
      ]
    },
    {
      "cell_type": "code",
      "source": [
        "arr[0] = 99\n",
        "print(x)"
      ],
      "metadata": {
        "colab": {
          "base_uri": "https://localhost:8080/"
        },
        "id": "fBuSblJhmRRx",
        "outputId": "1f56fef2-09c2-4491-b010-cceefe31a70d"
      },
      "execution_count": 16,
      "outputs": [
        {
          "output_type": "stream",
          "name": "stdout",
          "text": [
            "tensor([99,  1,  2,  3,  4])\n"
          ]
        }
      ]
    },
    {
      "cell_type": "code",
      "source": [
        "# BTVN 3:\n",
        "# Giai thích lý do tại trong 2 trường hợp ở trên một cái dùng a[0] = 99 lại thay đổi mà cái còn lại thì hong?\n",
        "# -> vì khi chạy torch.tensor là nó tạo một bản sao clone của arr nên chạy nó vẫn ko thay đổi"
      ],
      "metadata": {
        "id": "LOShveG6nQVS"
      },
      "execution_count": 17,
      "outputs": []
    },
    {
      "cell_type": "code",
      "source": [
        "# BTVN 4:\n",
        "# về nahf tạo tensor với empty , zeros, ones, random, reshape với view và view as\n",
        "\n",
        "# emty\n",
        "x = torch.empty(3, 3)\n",
        "print(\"tensor voi emty\")\n",
        "print(x)\n",
        "\n",
        "# zeros\n",
        "x = torch.zeros(3, 3)  # Tạo tensor toàn số 0\n",
        "print(\"\\ntensor voi zeros\")\n",
        "print(x)\n",
        "\n",
        "# ones\n",
        "x = torch.ones(3, 3)  # Tạo tensor toàn số 1\n",
        "print(\"\\ntensor voi ones\")\n",
        "print(x)\n",
        "\n",
        "# random\n",
        "x = torch.rand(3, 3)  # Tạo tensor với giá trị ngẫu nhiên từ 0 đến 1\n",
        "print(\"\\ntensor voi random\")\n",
        "print(x)\n",
        "\n",
        "# reshape\n",
        "x = torch.arange(12)  # Tạo tensor từ 0 đến 11\n",
        "y = x.reshape(3, 4)  # Chuyển thành ma trận (3,4)\n",
        "print(\"\\ntensor voi reshape\")\n",
        "print(y)\n",
        "\n",
        "# reshape voi view\n",
        "x = torch.arange(12)\n",
        "y = x.view(3, 4)  # Giống reshape nhưng dùng chung bộ nhớ với tensor gốc\n",
        "print(\"\\ntensor voi reshape voi view\")\n",
        "print(y)\n",
        "\n",
        "# reshape voiws view as\n",
        "x = torch.arange(12)\n",
        "z = torch.zeros(3, 4)  # Tạo tensor mẫu\n",
        "y = x.view_as(z)  # Chuyển x thành cùng kích thước với z\n",
        "print(\"\\ntensor voi reshape voi view as\")\n",
        "print(y)\n"
      ],
      "metadata": {
        "id": "Vgt-euOynzXq",
        "colab": {
          "base_uri": "https://localhost:8080/"
        },
        "outputId": "20bd2742-554d-4955-9d1e-b975baac8c68"
      },
      "execution_count": 21,
      "outputs": [
        {
          "output_type": "stream",
          "name": "stdout",
          "text": [
            "tensor voi emty\n",
            "tensor([[1.5638e-34, 0.0000e+00, 1.6250e-34],\n",
            "        [0.0000e+00, 2.1622e-01, 5.2089e-01],\n",
            "        [5.2166e-01, 9.3347e-02, 3.0279e-01]])\n",
            "\n",
            "tensor voi zeros\n",
            "tensor([[0., 0., 0.],\n",
            "        [0., 0., 0.],\n",
            "        [0., 0., 0.]])\n",
            "\n",
            "tensor voi ones\n",
            "tensor([[1., 1., 1.],\n",
            "        [1., 1., 1.],\n",
            "        [1., 1., 1.]])\n",
            "\n",
            "tensor voi random\n",
            "tensor([[0.0837, 0.1452, 0.4051],\n",
            "        [0.2222, 0.3024, 0.8100],\n",
            "        [0.0528, 0.5751, 0.3528]])\n",
            "\n",
            "tensor voi reshape\n",
            "tensor([[ 0,  1,  2,  3],\n",
            "        [ 4,  5,  6,  7],\n",
            "        [ 8,  9, 10, 11]])\n",
            "\n",
            "tensor voi reshape voi view\n",
            "tensor([[ 0,  1,  2,  3],\n",
            "        [ 4,  5,  6,  7],\n",
            "        [ 8,  9, 10, 11]])\n",
            "\n",
            "tensor voi reshape voi view as\n",
            "tensor([[ 0,  1,  2,  3],\n",
            "        [ 4,  5,  6,  7],\n",
            "        [ 8,  9, 10, 11]])\n"
          ]
        }
      ]
    },
    {
      "cell_type": "markdown",
      "source": [
        "Deadline: 15/3"
      ],
      "metadata": {
        "id": "t3x72ywBoj6p"
      }
    }
  ]
}