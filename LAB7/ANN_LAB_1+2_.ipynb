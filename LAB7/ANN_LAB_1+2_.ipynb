{
  "cells": [
    {
      "cell_type": "markdown",
      "metadata": {
        "id": "WKX7lnzrqf5Q"
      },
      "source": [
        "# Lab 6 + 7: Mạng Nơ-ron Nhân tạo (ANN) với PyTorch\n",
        "\n",
        "## Giới thiệu\n",
        "Chào buổi chiều đến các bạn sinh ziên yêu quý :)))\n",
        "\n",
        "Trong lab này, chúng ta sẽ khám phá Mạng Nơ-ron Nhân tạo (ANN) - một \"bộ não máy tính\" đơn giản học từ dữ liệu. Nó giống như dạy máy tính phân biệt mèo và chó bằng cách cho nó xem nhiều ví dụ. Chúng ta sẽ:\n",
        "- Tạo dữ liệu: điểm trong vòng tròn và vành đai.\n",
        "- Dùng PyTorch để xây dựng mô hình ANN. :)))\n",
        "- Xem ANN phân loại thế nào qua hình ảnh trực quan.\n",
        "\n",
        "Hãy nghĩ ANN như một chiếc bánh sandwich: có lớp đầu vào, lớp ẩn \"nêm gia vị\", và lớp đầu ra cho kết quả nha :) Ahihi"
      ]
    },
    {
      "cell_type": "markdown",
      "metadata": {
        "id": "VyB9w0siqf5S"
      },
      "source": [
        "## Lý thuyết về ANN\n",
        "\n",
        "### 1. ANN là gì?\n",
        "- **Định nghĩa**: Mạng Nơ-ron Nhân tạo (ANN) là một cách để máy tính học từ dữ liệu, giống như bạn dạy một đứa trẻ nhận biết mèo và chó bằng cách chỉ cho nó nhiều hình ảnh.  \n",
        "- **Tại sao dùng ANN?**: Vì nó giỏi tìm quy luật trong dữ liệu phức tạp, như phân biệt điểm thuộc vòng tròn hay vành đai – thứ mà đường thẳng đơn giản không làm được.  \n",
        "- **Ví dụ**: Nếu chúng ta có 300 điểm và muốn biết điểm nào thuộc nhóm nào, ANN tự học từ dữ liệu thay vì chúng ta phải viết quy tắc bằng tay.\n"
      ]
    },
    {
      "cell_type": "markdown",
      "metadata": {
        "id": "KOhZLK2Wqf5T"
      },
      "source": [
        "### 2. Cấu trúc ANN\n",
        "- ANN giống như một đội làm việc có 3 nhóm:  \n",
        "  - **Lớp đầu vào**: Nhóm nhận thông tin. Ở đây có 2 người (2 nút), một người nhận $x$, một người nhận $y$.  \n",
        "    - **Ví dụ**: Điểm (1, 2) vào, nút 1 nhận $1$, nút 2 nhận $2$.  \n",
        "  - **Lớp ẩn**: Nhóm phân tích thông tin, có 4 người (4 nút) để \"nghĩ\" sâu hơn.  \n",
        "    - **Tại sao 4 nút?**: Đây là lựa chọn trong lab này để thử nhiều cách nhìn dữ liệu, giúp tìm quy luật tốt hơn. Số nút có thể thay đổi tùy bài toán.  \n",
        "    - **Ví dụ**: Họ nhìn $(1, 2)$ và tính xem nó gần gốc tọa độ hay xa.  \n",
        "  - **Lớp đầu ra**: Nhóm đưa ra kết quả cuối, chỉ cần 1 người (1 nút) nói \"lớp 0\" hay \"lớp 1\".  \n",
        "    - **Ví dụ**: Kết quả $0.7$ nghĩa là nghiêng về lớp 1.  \n",
        "\n",
        "- **Hình ảnh minh họa**:  \n",
        "  - Sơ đồ:  \n",
        "    - Bên trái: 2 vòng tròn (đầu vào: $x, y$).  \n",
        "    - Giữa: 4 vòng tròn nối với 2 vòng tròn trước bằng mũi tên (lớp ẩn).  \n",
        "    - Bên phải: 1 vòng tròn nối với 4 vòng tròn giữa (đầu ra).  \n",
        "  - Mỗi mũi tên là \"trọng số\" – độ quan trọng của thông tin.  \n",
        "  - **Xem hình**:\n"
      ]
    },
    {
      "cell_type": "markdown",
      "metadata": {
        "id": "iFdsTupFqf5T"
      },
      "source": [
        "\n",
        "### 3. Trọng số và độ chệch\n",
        "- **Trọng số (weights)**: Mỗi người trong lớp ẩn \"đánh giá\" $x$ và $y$ khác nhau, dựa trên độ quan trọng.  \n",
        "  - **Ví dụ số**: Giả sử trọng số $w_1 = 0.5$, $w_2 = 0.3$. Với $x = 1$, $y = 2$, tổng là:  \n",
        "    $$\n",
        "    z = 0.5 \\cdot 1 + 0.3 \\cdot 2 = 0.5 + 0.6 = 1.1\n",
        "    $$\n",
        "  - **Tại sao lại cần thiết?**: Để quyết định $x$ hay $y$ ảnh hưởng nhiều hơn đến kết quả.  \n",
        "- **Độ chệch(bias)**: Một số nhỏ thêm vào để điều chỉnh cho đúng.  \n",
        "  - **Ví dụ số**: Nếu $b = 0.2$, tổng thành:  \n",
        "    $$\n",
        "    z = 1.1 + 0.2 = 1.3\n",
        "    $$\n",
        "  - **Tại sao độ chệch lại cần thiết?**: Để tránh kết quả bị lệch quá xa (như luôn gần $0$ dù dữ liệu lớn).  \n",
        "- **Công thức đầy đủ**:  \n",
        "  $$\n",
        "  z = w_1 \\cdot x + w_2 \\cdot y + b\n",
        "  $$"
      ]
    },
    {
      "cell_type": "markdown",
      "metadata": {
        "id": "OkzAin0oqf5U"
      },
      "source": [
        "### 4. Hàm kích hoạt\n",
        "- ANN không chỉ cộng trừ đơn giản (như máy tính cơ bản), mà còn hiểu được dữ liệu phức tạp nhờ hàm kích hoạt.  \n",
        "- **ReLU (Rectified Linear Unit)**: Giữ số dương, bỏ số âm.  \n",
        "  - **Công thức**:  \n",
        "    $$\n",
        "    \\phi(z) = \\max(0, z)\n",
        "    $$\n",
        "  - **Ví dụ số**: Với $z = 1.3$ thì $\\phi(1.3) = 1.3$; với $z = -0.5$ thì $\\phi(-0.5) = 0$.  \n",
        "  - **Khi nào dùng ReLU?**: Thường dùng ở lớp ẩn vì nó đơn giản, nhanh, và giúp \"tắt\" những tính toán không quan trọng (khi $z < 0$), tập trung vào dữ liệu có ý nghĩa lớn hơn. Nó cũng tránh vấn đề gradient biến mất khi mạng sâu.  \n",
        "- **Sigmoid**: Biến số thành xác suất từ $0$ đến $1$.  -> hoi quy logitic\n",
        "  - **Công thức**:  \n",
        "    $$\n",
        "    \\phi(z) = \\frac{1}{1 + e^{-z}}\n",
        "    $$\n",
        "  - **Ví dụ số**: Với $z = 1.3$, $e^{-1.3} \\approx 0.27$, nên:  \n",
        "    $$\n",
        "    \\phi(1.3) \\approx \\frac{1}{1 + 0.27} \\approx 0.79\n",
        "    $$\n",
        "  - **Khi nào dùng Sigmoid?**: Thường dùng ở lớp đầu ra khi cần kết quả dạng xác suất (ví dụ, phân loại nhị phân: $0$ hoặc $1$). Tuy nhiên, nó ít được dùng ở lớp ẩn vì dễ gây gradient nhỏ khi $z$ quá lớn hoặc quá nhỏ, làm chậm học.  \n",
        "\n",
        "- **Hình ảnh minh họa**:  \n",
        "  - **ReLU**: Đường thẳng từ $(0,0)$ lên khi $z > 0$, nằm ngang ở $0$ khi $z < 0$.  \n",
        "  - **Sigmoid**: Đường cong mềm từ $0$ (khi $z$ âm lớn) đến $1$ (khi $z$ dương lớn), đi qua $0.5$ khi $z = 0$.  \n",
        "  - **Xem hình**:\n",
        "  \n"
      ]
    },
    {
      "cell_type": "markdown",
      "metadata": {
        "id": "eyiCK7g0qf5U"
      },
      "source": [
        "### 5. Lan truyền tiến (Forward Propagation)\n",
        "- **Quy trình**: Dữ liệu đi qua từng lớp như chuyền bóng:  \n",
        "  1. Từ đầu vào: $x = 1$, $y = 2$.  \n",
        "  2. Lớp ẩn tính (giả sử 1 nút):  \n",
        "     $$\n",
        "     z = 0.5 \\cdot 1 + 0.3 \\cdot 2 + 0.2 = 1.3\n",
        "     $$\n",
        "     Sau đó, ReLU cho $\\phi(1.3) = 1.3$.  \n",
        "  3. Lớp đầu ra tính tiếp (giả sử trọng số $w = 0.4$, bias $b = 0.1$):  \n",
        "     $$\n",
        "     z = 0.4 \\cdot 1.3 + 0.1 = 0.52 + 0.1 = 0.62\n",
        "     $$\n",
        "     Và Sigmoid cho $\\phi(0.62) \\approx 0.65$.  \n",
        "- **Kết quả**: $0.65$ nghĩa là $65\\%$ thuộc lớp 1.  \n",
        "- **Lan truyền tiến để làm gì?**: Để dự đoán từ dữ liệu ban đầu qua các lớp."
      ]
    },
    {
      "cell_type": "markdown",
      "metadata": {
        "id": "VWCXROQnqf5U"
      },
      "source": [
        "### 6. Hàm mất mát (Loss Function)\n",
        "- **Ý nghĩa**: Đo sai lầm giữa dự đoán và thực tế. Nếu dự đoán gần giá trị thực, mất mát nhỏ; nếu lệch xa, mất mát lớn.  \n",
        "- **Công thức từ đâu mà có?**: Trong bài toán phân loại nhị phân (0 hoặc 1), ta dùng **Binary Cross-Entropy Loss**, dựa trên lý thuyết xác suất. Ý tưởng là so sánh phân phối xác suất dự đoán ($\\hat{y}$) với nhãn thật ($y$), lấy log để phạt nặng hơn khi sai lệch lớn. Công thức:  \n",
        "  $$\n",
        "  L = -[y \\cdot \\log(\\hat{y}) + (1 - y) \\cdot \\log(1 - \\hat{y})]\n",
        "  $$\n",
        "  - $y$: Nhãn thực tế (0 hoặc 1).  \n",
        "  - $\\hat{y}$: Xác suất dự đoán từ Sigmoid (0 đến 1).  \n",
        "  - **Giải thích**: Nếu $y = 1$, ta muốn $\\hat{y}$ gần 1, nên $-\\log(\\hat{y})$ nhỏ khi $\\hat{y}$ lớn; nếu $y = 0$, ta muốn $\\hat{y}$ gần 0, nên $-\\log(1 - \\hat{y})$ nhỏ khi $\\hat{y}$ nhỏ.  \n",
        "- **Ví dụ**:  \n",
        "  - Nếu $y = 1$ và $\\hat{y} = 0.8$:  \n",
        "    - $L = -\\log(0.8) \\approx 0.22$, dự đoán khá tốt.  \n",
        "  - Nếu $y = 0$ và $\\hat{y} = 0.3$:  \n",
        "    - $L = -\\log(1 - 0.3) = -\\log(0.7) \\approx 0.36$, cũng tương đối ổn.  \n",
        "- **Trong lab**: Hàm mất mát tổng là trung bình của $L$ trên tất cả mẫu (ví dụ, dùng `nn.BCELoss()` với `X_train`)."
      ]
    },
    {
      "cell_type": "markdown",
      "metadata": {
        "id": "DuVczKNIqf5V"
      },
      "source": [
        "### 7. Lan truyền ngược (Backpropagation)\n",
        "- **Quy trình**: Sửa sai từ cuối về đầu:  \n",
        "  1. Tính lỗi ở đầu ra: Với dự đoán $\\hat{y} = 0.65$ và thực tế $y = 1$, lỗi là $y - \\hat{y} = 0.35$ (trực giác đơn giản, thực tế dùng gradient).  \n",
        "  2. Quay lại lớp ẩn: Xác định lỗi do trọng số nào gây ra bằng đạo hàm (gradient).  \n",
        "  3. Điều chỉnh: Giảm trọng số nếu làm $z$ quá nhỏ, tăng nếu quá lớn.  \n",
        "- **Công thức?**: Dựa trên **quy tắc chuỗi (chain rule)** trong vi tích phân. Gradient của mất mát $L$ theo trọng số $w$ được tính qua các lớp:  \n",
        "  - Bước 1: Gradient của $L$ theo $\\hat{y}$:  \n",
        "    $$\n",
        "    \\frac{\\partial L}{\\partial \\hat{y}} = -\\frac{y}{\\hat{y}} + \\frac{1 - y}{1 - \\hat{y}}\n",
        "    $$\n",
        "  - Bước 2: Gradient của $\\hat{y}$ theo $z$ (với Sigmoid):  \n",
        "    $$\n",
        "    \\frac{\\partial \\hat{y}}{\\partial z} = \\hat{y} \\cdot (1 - \\hat{y})\n",
        "    $$\n",
        "  - Bước 3: Gradient của $z$ theo $w$ (với $z = w \\cdot x + b$):  \n",
        "    $$\n",
        "    \\frac{\\partial z}{\\partial w} = x\n",
        "    $$\n",
        "  - Tổng hợp:  \n",
        "    $$\n",
        "    \\frac{\\partial L}{\\partial w} = \\frac{\\partial L}{\\partial \\hat{y}} \\cdot \\frac{\\partial \\hat{y}}{\\partial z} \\cdot \\frac{\\partial z}{\\partial w}\n",
        "    $$\n",
        "  - Cập nhật trọng số:  \n",
        "    $$\n",
        "    w = w - \\alpha \\cdot \\frac{\\partial L}{\\partial w}\n",
        "    $$\n",
        "    ($\\alpha$ là tốc độ học, ví dụ $0.01$).  \n",
        "- **Ví dụ số**: Nếu $w = 0.5$, gradient $\\frac{\\partial L}{\\partial w} \\approx 0.35$ (giả định đơn giản), thì:  \n",
        "  $$\n",
        "  w = 0.5 - 0.01 \\cdot 0.35 = 0.4965\n",
        "  $$\n",
        "- **Tại sao dùng lan truyền ngược?**: Để lần sau dự đoán chính xác hơn bằng cách điều chỉnh trọng số dựa trên lỗi."
      ]
    },
    {
      "cell_type": "markdown",
      "metadata": {
        "id": "I69Vgqb2qf5V"
      },
      "source": [
        "### 8. Tối ưu hóa (Optimizer)\n",
        "- **Ý nghĩa**: Giúp ANN sửa sai nhanh chóng và hiệu quả.  \n",
        "- **Adam**: Một thuật toán tối ưu tiên tiến, kết hợp động lượng và RMSProp để cập nhật trọng số thông minh (như GPS tìm đường ngắn nhất).  \n",
        "- **Ví dụ**: Thay vì chỉ điều chỉnh nhỏ đều đặn, Adam thay đổi lớn khi cần nhưng vẫn đảm bảo chính xác.  \n",
        "- **Sử dụng tối ưu hóa để làm gì?**: Để ANN học nhanh hơn và đạt hiệu quả cao từ dữ liệu."
      ]
    },
    {
      "cell_type": "code",
      "execution_count": 3,
      "metadata": {
        "id": "Ub8QSOBoqf5V"
      },
      "outputs": [
        {
          "ename": "ModuleNotFoundError",
          "evalue": "No module named 'numpy'",
          "output_type": "error",
          "traceback": [
            "\u001b[1;31m---------------------------------------------------------------------------\u001b[0m",
            "\u001b[1;31mModuleNotFoundError\u001b[0m                       Traceback (most recent call last)",
            "Cell \u001b[1;32mIn[3], line 2\u001b[0m\n\u001b[0;32m      1\u001b[0m \u001b[38;5;66;03m# Cài đặt thư viện\u001b[39;00m\n\u001b[1;32m----> 2\u001b[0m \u001b[38;5;28;01mimport\u001b[39;00m \u001b[38;5;21;01mnumpy\u001b[39;00m \u001b[38;5;28;01mas\u001b[39;00m \u001b[38;5;21;01mnp\u001b[39;00m\n\u001b[0;32m      3\u001b[0m \u001b[38;5;28;01mimport\u001b[39;00m \u001b[38;5;21;01mtorch\u001b[39;00m\n\u001b[0;32m      4\u001b[0m \u001b[38;5;28;01mimport\u001b[39;00m \u001b[38;5;21;01mtorch\u001b[39;00m\u001b[38;5;21;01m.\u001b[39;00m\u001b[38;5;21;01mnn\u001b[39;00m \u001b[38;5;28;01mas\u001b[39;00m \u001b[38;5;21;01mnn\u001b[39;00m\n",
            "\u001b[1;31mModuleNotFoundError\u001b[0m: No module named 'numpy'"
          ]
        }
      ],
      "source": [
        "# Cài đặt thư viện\n",
        "import numpy as np\n",
        "import torch\n",
        "import torch.nn as nn\n",
        "import torch.optim as optim\n",
        "from sklearn.model_selection import train_test_split\n",
        "import matplotlib.pyplot as plt\n",
        "\n",
        "# Đặt seed để kết quả ổn định hơn (tùy chọn)\n",
        "torch.manual_seed(42)\n",
        "np.random.seed(42)"
      ]
    },
    {
      "cell_type": "markdown",
      "metadata": {
        "id": "g2TfqmxBqf5W"
      },
      "source": [
        "## Tạo dữ liệu tự tạo\n",
        "\n",
        "Ta tạo 2 nhóm điểm:\n",
        "- **Lớp 0**: Điểm trong vòng tròn nhỏ (bán kính 1). Ví dụ: gần gốc tọa độ.\n",
        "- **Lớp 1**: Điểm trong vành đai (bán kính 1 đến 2). Ví dụ: xa gốc hơn.\n",
        "\n",
        "Cách tạo:\n",
        "- Dùng số ngẫu nhiên $u$ từ 0 đến 1, góc $\\theta$ từ 0 đến $2\\pi$.\n",
        "- Lớp 0: $r = \\sqrt{u}$.\n",
        "- Lớp 1: $r = \\sqrt{3u + 1}$.\n",
        "\n",
        "Số điểm: 100 cho lớp 0, 200 cho lớp 1. Chia 80% để học, 20% để kiểm tra.\n"
      ]
    },
    {
      "cell_type": "code",
      "execution_count": null,
      "metadata": {
        "id": "ZOpBcFQwqf5W"
      },
      "outputs": [],
      "source": [
        "# Tạo điểm cho lớp 0 (vòng tròn)\n",
        "def generate_class_0(n_samples):\n",
        "    u = np.random.rand(n_samples)\n",
        "    theta = np.random.uniform(2 * np.pi,n_samples)\n",
        "    r = np.sqrt(u)  # Bán kính nhỏ\n",
        "    x = r * np.cos(theta)\n",
        "    y = r * np.sin(theta)\n",
        "    return np.column_stack((x, y))\n",
        "\n",
        "# Tạo điểm cho lớp 1 (vành đai)\n",
        "def generate_class_1(n_samples):\n",
        "    u = np.random.rand(n_samples)\n",
        "    theta = np.random.uniform(0, 2 * np.pi, n_samples)\n",
        "    r = np.sqrt(3 * u + 1)  # Bán kính lonws honw\n",
        "    x = r * np.cos(theta)\n",
        "    y = r * np.sin(theta)\n",
        "    return np.column_stack((x, y))\n",
        "\n",
        "# Tạo dữ liệu\n",
        "X_class0 = generate_class_0(100)\n",
        "X_class1 = generate_class_1(200)\n",
        "\n",
        "# Thêm nhãn\n",
        "y_class0 =  np.zeros(100)   # Nhãn 0\n",
        "y_class1 =  np.ones(200) # Nhãn 1\n",
        "\n",
        "# Kết hợp dữ liệu\n",
        "X = np.vstack((X_class0, X_class1))\n",
        "y = np.hstack((y_class0, y_class1))\n",
        "\n",
        "# Chia dữ liệu với 20% là test size\n",
        "X_train, X_test, y_train, y_test = train_test_split(X, y, test_size=0.2, random_state=42)\n",
        "\n",
        "# Chuyển sang tensor PyTorch\n",
        "X_train = torch.FloatTensor(X_train)\n",
        "y_train = torch.FloatTensor(y_train).unsqueeze(1)  # Thêm chiều cho nhãn\n",
        "X_test = torch.FloatTensor(X_test)\n",
        "y_test = torch.FloatTensor(y_test).unsqueeze(1)"
      ]
    },
    {
      "cell_type": "markdown",
      "metadata": {
        "id": "9b3IC7PAqf5X"
      },
      "source": [
        "## Xây ANN bằng PyTorch\n",
        "ANN đơn giản:\n",
        "- **Lớp đầu vào**: 2 nút (x, y).\n",
        "- **Lớp ẩn**: 4 nút với ReLU để \"nghĩ\".\n",
        "- **Lớp đầu ra**: 1 nút với Sigmoid để ra 0 hoặc 1.\n",
        "\n",
        "Học bằng:\n",
        "- **Hàm mất mát**: BCELoss (đo sai lầm).\n",
        "- **Tối ưu hóa**: Adam (điều chỉnh thông minh).\n",
        "- Học 100 lần (epochs), mỗi lần dùng 32 điểm (batch)."
      ]
    },
    {
      "cell_type": "code",
      "execution_count": null,
      "metadata": {
        "colab": {
          "base_uri": "https://localhost:8080/"
        },
        "id": "o__T83wuqf5X",
        "outputId": "da66ec82-f96e-43cb-a196-bff7c19409d0"
      },
      "outputs": [
        {
          "name": "stdout",
          "output_type": "stream",
          "text": [
            "Epoch [20/100], loss: 0.5438\n",
            "Epoch [40/100], loss: 0.4862\n",
            "Epoch [60/100], loss: 0.4190\n",
            "Epoch [80/100], loss: 0.3300\n",
            "Epoch [100/100], loss: 0.2552\n"
          ]
        }
      ],
      "source": [
        "# Xây dựng mô hình ANN cơ bản\n",
        "class ANN(nn.Module):\n",
        "    def __init__(self):\n",
        "        super(ANN, self).__init__()\n",
        "        self.layer1 = nn.Linear(2,4)  # Đầu vào 2, ẩn 4\n",
        "        self.relu = nn.ReLU()  # Công tắc ReLU\n",
        "        self.layer2 = nn.Linear(4,1) # Ẩn 4, đầu ra 1\n",
        "        self.sigmoid = nn.Sigmoid() # Xác suất 0-1\n",
        "\n",
        "    def forward(self, x):\n",
        "        x = self.layer1(x)\n",
        "        x = self.relu(x)\n",
        "        x = self.layer2(x)\n",
        "        x = self.sigmoid(x)\n",
        "        return x\n",
        "\n",
        "# Khởi tạo mô hình\n",
        "model = ANN()\n",
        "\n",
        "# Định nghĩa mất mát và tối ưu hóa\n",
        "criterion = nn.BCELoss()\n",
        "optimizer = optim.Adam(model.parameters(), lr=0.01)\n",
        "\n",
        "# Huấn luyện\n",
        "epochs = 100\n",
        "for epoch in range(epochs):\n",
        "    model.train()\n",
        "    # Xóa gradient cũ\n",
        "    optimizer.zero_grad()\n",
        "    # Dự đoán\n",
        "    y_pred = model(X_train)\n",
        "    # Tính sai lầm\n",
        "    loss = criterion(y_pred, y_train)\n",
        "    # Lan truyền ngược\n",
        "    loss.backward()\n",
        "    optimizer.step()\n",
        "    if (epoch + 1) % 20 == 0:\n",
        "        print(f\"Epoch [{epoch+1}/{epochs}], loss: {loss.item():.4f}\")"
      ]
    },
    {
      "cell_type": "code",
      "execution_count": null,
      "metadata": {
        "id": "-2H7eK47jCha"
      },
      "outputs": [],
      "source": [
        "# cách chạy 100 epoch\n"
      ]
    },
    {
      "cell_type": "markdown",
      "metadata": {
        "id": "_QqtrqWGqf5X"
      },
      "source": [
        "## Kiểm tra mô hình ANN\n",
        "ANN đoán đúng bao nhiêu trên dữ liệu kiểm tra. Nếu dự đoán > 0.5 thì là lớp 1, nhỏ hơn là lớp 0."
      ]
    },
    {
      "cell_type": "code",
      "execution_count": null,
      "metadata": {
        "colab": {
          "base_uri": "https://localhost:8080/"
        },
        "id": "6KtruE7Mqf5X",
        "outputId": "abc45348-0196-49a2-8c48-90ac0762edab"
      },
      "outputs": [
        {
          "name": "stdout",
          "output_type": "stream",
          "text": [
            "Độ chính xác: 98.33%\n"
          ]
        }
      ],
      "source": [
        "# Kiểm tra\n",
        "model.eval()\n",
        "with torch.no_grad():\n",
        "    y_pred = model(X_test)\n",
        "    y_pred = (y_pred >= 0.5).float()# Chuyển thành 0 hoặc 1\n",
        "    accuracy = (y_pred == y_test).float().mean()\n",
        "    print(f\"Độ chính xác: {accuracy*100:.2f}%\")"
      ]
    },
    {
      "cell_type": "markdown",
      "metadata": {
        "id": "UqVJd1E4qf5Y"
      },
      "source": [
        "## Visualization\n",
        "\n",
        "- Điểm lớp 0 (xanh), lớp 1 (đỏ).\n",
        "- Ranh giới quyết định (màu nền) để xem ANN phân loại thế nào."
      ]
    },
    {
      "cell_type": "code",
      "execution_count": null,
      "metadata": {
        "colab": {
          "base_uri": "https://localhost:8080/",
          "height": 454
        },
        "id": "8R28gjH9qf5Y",
        "outputId": "db51fc51-936a-4382-9fca-c57d654b1930"
      },
      "outputs": [
        {
          "data": {
            "image/png": "[encoded data removed]",
            "text/plain": [
              "<Figure size 640x480 with 1 Axes>"
            ]
          },
          "metadata": {},
          "output_type": "display_data"
        }
      ],
      "source": [
        "# Tạo lưới để vẽ ranh giới\n",
        "x_min, x_max = X[:, 0].min() - 0.5, X[:, 0].max() + 0.5\n",
        "y_min, y_max = X[:, 1].min() - 0.5, X[:, 1].max() + 0.5\n",
        "xx, yy = np.meshgrid(np.linspace(x_min, x_max, 100), np.linspace(y_min, y_max, 100))\n",
        "grid = torch.FloatTensor(np.c_[xx.ravel(), yy.ravel()])\n",
        "\n",
        "# Dự đoán trên lưới\n",
        "model.eval()\n",
        "with torch.no_grad():\n",
        "    pred_grid = model(grid)\n",
        "    pred_grid = (pred_grid > 0.5).float().numpy().reshape(xx.shape)\n",
        "\n",
        "# Vẽ\n",
        "plt.contourf(xx, yy, pred_grid, alpha=0.7, cmap='coolwarm')  # Ranh giới\n",
        "plt.scatter(X[y == 0, 0], X[y == 0, 1], color='blue', label='Lớp 0')\n",
        "plt.scatter(X[y == 1, 0], X[y == 1, 1], color='red', label='Lớp 1')\n",
        "plt.legend()\n",
        "plt.title(\"ANN phân loại điểm\")\n",
        "plt.show()"
      ]
    },
    {
      "cell_type": "markdown",
      "metadata": {
        "id": "fFhc5pn2qf5Y"
      },
      "source": [
        "## Kết luận\n",
        "Lab này cho thấy ANN có thể phân loại điểm không tách biệt tuyến tính (vòng tròn và vành đai). Kết quả thay đổi mỗi lần chạy vì dữ liệu ngẫu nhiên - giống như mỗi lần thi điểm khác nhau! Các bạn có thể thử thay đổi số nút hoặc số lần học để xem điều gì xảy ra."
      ]
    },
    {
      "cell_type": "code",
      "execution_count": null,
      "metadata": {
        "colab": {
          "base_uri": "https://localhost:8080/",
          "height": 454
        },
        "id": "OmOf3ASwAJlS",
        "outputId": "de2cecc4-7582-4dc3-b9a8-252053d6968d"
      },
      "outputs": [
        {
          "data": {
            "image/png": "[encoded data removed]",
            "text/plain": [
              "<Figure size 640x480 with 1 Axes>"
            ]
          },
          "metadata": {},
          "output_type": "display_data"
        }
      ],
      "source": [
        "# Tạo lưới để vẽ ranh giới\n",
        "x_min, x_max = X[:, 0].min() - 0.5, X[:, 0].max() + 0.5\n",
        "y_min, y_max = X[:, 1].min() - 0.5, X[:, 1].max() + 0.5\n",
        "xx, yy = np.meshgrid(np.linspace(x_min, x_max, 1000), np.linspace(y_min, y_max, 1000))\n",
        "grid = torch.FloatTensor(np.c_[xx.ravel(), yy.ravel()])\n",
        "\n",
        "# Dự đoán trên lưới\n",
        "model.eval()\n",
        "with torch.no_grad():\n",
        "    pred_grid = model(grid)\n",
        "    pred_grid = (pred_grid > 0.5).float().numpy().reshape(xx.shape)\n",
        "\n",
        "# Vẽ\n",
        "plt.contourf(xx, yy, pred_grid, alpha=0.7, cmap='coolwarm')  # Ranh giới\n",
        "plt.scatter(X[y == 0, 0], X[y == 0, 1], color='blue', label='Lớp 0')\n",
        "plt.scatter(X[y == 1, 0], X[y == 1, 1], color='red', label='Lớp 1')\n",
        "plt.legend()\n",
        "plt.title(\"ANN phân loại điểm\")\n",
        "plt.show()\n",
        "\n",
        "# Nhận xét:\n",
        "# *> Số lần học thấp (epochs nhỏ):\n",
        "# - Mạng học chưa đủ, ranh giới quyết định còn mờ.\n",
        "# - Dự đoán có thể sai và loss vẫn còn cao chưa chưa đạt hội tụ.\n",
        "# *> Số lần học cao (epochs cao):\n",
        "# - Mạng học kỹ hơn ranh giới sắt nét hơn\n",
        "# - Nếu quá cao có thể bị overfitting"
      ]
    },
    {
      "cell_type": "markdown",
      "metadata": {
        "id": "xG79Fzzkqf5Z"
      },
      "source": [
        "# Bài tập về nhà:\n",
        "\n",
        "## Mục tiêu\n",
        "Sau khi hoàn thành lab về ANN, bài tập này giúp bạn củng cố kiến thức bằng cách:\n",
        "1. Thay đổi cấu trúc ANN và quan sát ảnh hưởng đến hiệu suất.\n",
        "2. Thử nghiệm với các hàm mất mát và tối ưu hóa khác.\n",
        "3. Phân tích kết quả qua biểu đồ và số liệu.\n",
        "\n",
        "## Hướng dẫn\n",
        "- Sử dụng file `ANN_Lab.ipynb` từ lab làm nền tảng.\n",
        "- Gửi bài làm dưới dạng file `.ipynb` với phần code và câu trả lời viết trong ô Markdown.\n",
        "- Hạn nộp: 23h59p ngày 28/03/2025.\n",
        "\n",
        "---\n",
        "\n",
        "## Phần 1: Thay đổi cấu trúc ANN\n",
        "### Yêu cầu\n",
        "1. **Tăng số nút trong lớp ẩn**:  \n",
        "   - Sửa lớp ẩn từ 4 nút thành 8 nút trong code định nghĩa `ANN`.  \n",
        "   - Huấn luyện lại mô hình với cùng dữ liệu `X_train`, `y_train` từ lab (100 epochs).  \n",
        "   - Ghi lại giá trị mất mát cuối cùng (`loss`) và độ chính xác trên tập kiểm tra (`X_test`, `y_test`).  \n",
        "\n",
        "2. **Thêm một lớp ẩn**:  \n",
        "   - Thêm một lớp ẩn thứ hai với 6 nút, dùng ReLU làm hàm kích hoạt. Cấu trúc mới:  \n",
        "     - Đầu vào: 2 nút.  \n",
        "     - Lớp ẩn 1: 8 nút (ReLU).  \n",
        "     - Lớp ẩn 2: 6 nút (ReLU).  \n",
        "     - Đầu ra: 1 nút (Sigmoid).  \n",
        "   - Huấn luyện lại mô hình (100 epochs).  \n",
        "   - Ghi lại giá trị mất mát cuối cùng và độ chính xác.\n",
        "\n",
        "3. **Câu hỏi**:  \n",
        "   - So sánh kết quả của 3 mô hình (4 nút, 8 nút, 8+6 nút):  \n",
        "     - Mất mát cuối cùng thay đổi thế nào?  \n",
        "     - Độ chính xác có cải thiện không? Tại sao bạn nghĩ vậy?  \n",
        "   - Viết câu trả lời trong ô Markdown.\n",
        "\n",
        "---\n",
        "\n",
        "## Phần 2: Thử nghiệm với hàm mất mát và tối ưu hóa\n",
        "### Yêu cầu\n",
        "1. **Dùng BCEWithLogitsLoss thay cho BCELoss**:  \n",
        "   - Thay `nn.BCELoss()` bằng `nn.BCEWithLogitsLoss()`.  \n",
        "   - Xóa hàm Sigmoid khỏi lớp đầu ra của mô hình (vì `BCEWithLogitsLoss` tự xử lý).  \n",
        "   - Huấn luyện lại mô hình với cấu trúc ban đầu (2-4-1, 100 epochs).  \n",
        "   - Ghi lại mất mát cuối cùng và độ chính xác.\n",
        "\n",
        "2. **Thay Adam bằng SGD**:  \n",
        "   - Dùng lại cấu trúc ban đầu (2-4-1) với `nn.BCELoss()`.  \n",
        "   - Thay `optim.Adam` bằng `optim.SGD` với `lr=0.01`.  \n",
        "   - Huấn luyện lại (100 epochs).  \n",
        "   - Ghi lại mất mát cuối cùng và độ chính xác.\n",
        "\n",
        "3. **Câu hỏi**:  \n",
        "   - So sánh kết quả:  \n",
        "     - `BCEWithLogitsLoss` có khác gì so với `BCELoss` về mất mát và độ chính xác? Tại sao?  \n",
        "     - `SGD` so với `Adam`: Mất mát giảm nhanh hơn hay chậm hơn? Độ chính xác thay đổi ra sao?  \n",
        "   - Viết câu trả lời trong ô Markdown.\n",
        "\n",
        "---\n",
        "\n",
        "## Phần 3: Phân tích kết quả\n",
        "### Yêu cầu\n",
        "1. **Vẽ đồ thị mất mát**:  \n",
        "   - Sửa code huấn luyện để lưu giá trị mất mát (`loss`) sau mỗi epoch vào một danh sách.  \n",
        "   - Vẽ đồ thị mất mát theo epoch cho 3 trường hợp:  \n",
        "     - Cấu trúc ban đầu (2-4-1, Adam, BCELoss).  \n",
        "     - Cấu trúc 2-8-1 (Adam, BCELoss).  \n",
        "     - Cấu trúc 2-4-1 (SGD, BCELoss).  \n",
        "   - Dùng `matplotlib` để vẽ 3 đường trên cùng một đồ thị, thêm chú thích (`legend`).\n",
        "\n",
        "2. **Câu hỏi**:  \n",
        "   - Quan sát đồ thị:  \n",
        "     - Mất mát giảm nhanh nhất ở trường hợp nào? Chậm nhất ở đâu?  \n",
        "     - Có trường hợp nào mất mát không giảm đều không (dao động)? Giải thích tại sao.  \n",
        "   - Viết câu trả lời trong ô Markdown.\n",
        "\n",
        "---\n",
        "\n",
        "## Định dạng nộp bài\n",
        "- Tạo file `.ipynb` mới với cấu trúc:  \n",
        "  - **Phần 1**: Code và câu trả lời cho \"Thay đổi cấu trúc ANN\".  \n",
        "  - **Phần 2**: Code và câu trả lời cho \"Thử nghiệm với hàm mất mát và tối ưu hóa\".  \n",
        "  - **Phần 3**: Code vẽ đồ thị và câu trả lời cho \"Phân tích kết quả\".  \n",
        "- Đặt tên file: `[HọTên]_ANN_Homework.ipynb` (ví dụ: `NguyenVanA_ANN_Homework.ipynb`).\n",
        "\n",
        "# Bài này sẽ học trong 2 tuần"
      ]
    },
    {
      "cell_type": "markdown",
      "metadata": {
        "id": "qRE6zvIRm9XO"
      },
      "source": [
        "## Phần 1: Thay đổi cấu trúc ANN\n",
        "### Yêu cầu\n",
        "1. **Tăng số nút trong lớp ẩn**:  \n",
        "   - Sửa lớp ẩn từ 4 nút thành 8 nút trong code định nghĩa `ANN`.  \n",
        "   - Huấn luyện lại mô hình với cùng dữ liệu `X_train`, `y_train` từ lab (100 epochs).  \n",
        "   - Ghi lại giá trị mất mát cuối cùng (`loss`) và độ chính xác trên tập kiểm tra (`X_test`, `y_test`).  \n",
        "\n",
        "2. **Thêm một lớp ẩn**:  \n",
        "   - Thêm một lớp ẩn thứ hai với 6 nút, dùng ReLU làm hàm kích hoạt. Cấu trúc mới:  \n",
        "     - Đầu vào: 2 nút.  \n",
        "     - Lớp ẩn 1: 8 nút (ReLU).  \n",
        "     - Lớp ẩn 2: 6 nút (ReLU).  \n",
        "     - Đầu ra: 1 nút (Sigmoid).  \n",
        "   - Huấn luyện lại mô hình (100 epochs).  \n",
        "   - Ghi lại giá trị mất mát cuối cùng và độ chính xác.\n",
        "\n",
        "3. **Câu hỏi**:  \n",
        "   - So sánh kết quả của 3 mô hình (4 nút, 8 nút, 8+6 nút):  \n",
        "     - Mất mát cuối cùng thay đổi thế nào?  \n",
        "     - Độ chính xác có cải thiện không?"
      ]
    },
    {
      "cell_type": "markdown",
      "metadata": {
        "id": "RNtLUrT5rylQ"
      },
      "source": [
        "model 1"
      ]
    },
    {
      "cell_type": "code",
      "execution_count": null,
      "metadata": {
        "colab": {
          "base_uri": "https://localhost:8080/"
        },
        "id": "dtsqk6S-rspU",
        "outputId": "420a2f35-a446-40af-a458-28336b31be1a"
      },
      "outputs": [
        {
          "name": "stdout",
          "output_type": "stream",
          "text": [
            "Epoch [20/100], loss: 0.5349\n",
            "Epoch [40/100], loss: 0.4027\n",
            "Epoch [60/100], loss: 0.2889\n",
            "Epoch [80/100], loss: 0.2052\n",
            "Epoch [100/100], loss: 0.1452\n"
          ]
        }
      ],
      "source": [
        "# Xây dựng mô hình ANN cơ bản\n",
        "class ANN1(nn.Module):\n",
        "    def __init__(self):\n",
        "        super(ANN1, self).__init__()\n",
        "        self.layer1 = nn.Linear(2,8)  # Đầu vào 2, ẩn 8\n",
        "        self.relu = nn.ReLU()  # Công tắc ReLU\n",
        "        self.layer2 = nn.Linear(8,1) # Ẩn 8, đầu ra 1\n",
        "        self.sigmoid = nn.Sigmoid() # Xác suất 0-1\n",
        "\n",
        "    def forward(self, x):\n",
        "        x = self.layer1(x)\n",
        "        x = self.relu(x)\n",
        "        x = self.layer2(x)\n",
        "        x = self.sigmoid(x)\n",
        "        return x\n",
        "\n",
        "# Khởi tạo mô hình\n",
        "model1 = ANN1()\n",
        "\n",
        "# Định nghĩa mất mát và tối ưu hóa\n",
        "criterion = nn.BCELoss()\n",
        "optimizer = optim.Adam(model1.parameters(), lr=0.01)\n",
        "\n",
        "# Huấn luyện\n",
        "epochs = 100\n",
        "for epoch in range(epochs):\n",
        "    model1.train()\n",
        "    # Xóa gradient cũ\n",
        "    optimizer.zero_grad()\n",
        "    # Dự đoán\n",
        "    y_pred = model1(X_train)\n",
        "    # Tính sai lầm\n",
        "    loss = criterion(y_pred, y_train)\n",
        "    # Lan truyền ngược\n",
        "    loss.backward()\n",
        "    optimizer.step()\n",
        "    if (epoch + 1) % 20 == 0:\n",
        "        print(f\"Epoch [{epoch+1}/{epochs}], loss: {loss.item():.4f}\")"
      ]
    },
    {
      "cell_type": "code",
      "execution_count": null,
      "metadata": {
        "colab": {
          "base_uri": "https://localhost:8080/"
        },
        "id": "edBohVe0rvEy",
        "outputId": "4929c1ed-dbda-4b2d-cfd5-3317859bb068"
      },
      "outputs": [
        {
          "name": "stdout",
          "output_type": "stream",
          "text": [
            "Độ chính xác: 98.33%\n"
          ]
        }
      ],
      "source": [
        "# Kiểm tra\n",
        "model1.eval()\n",
        "with torch.no_grad():\n",
        "    y_pred = model1(X_test)\n",
        "    y_pred = (y_pred >= 0.5).float()# Chuyển thành 0 hoặc 1\n",
        "    accuracy = (y_pred == y_test).float().mean()\n",
        "    print(f\"Độ chính xác: {accuracy*100:.2f}%\")"
      ]
    },
    {
      "cell_type": "markdown",
      "metadata": {
        "id": "6eUS7ttSr0cu"
      },
      "source": [
        "model 2"
      ]
    },
    {
      "cell_type": "code",
      "execution_count": null,
      "metadata": {
        "colab": {
          "base_uri": "https://localhost:8080/"
        },
        "id": "5LuJbDpXm98_",
        "outputId": "9e44015c-fb08-481e-811d-5f73458b0e00"
      },
      "outputs": [
        {
          "name": "stdout",
          "output_type": "stream",
          "text": [
            "Epoch [20/100], loss: 0.5997\n",
            "Epoch [40/100], loss: 0.4960\n",
            "Epoch [60/100], loss: 0.4460\n",
            "Epoch [80/100], loss: 0.3944\n",
            "Epoch [100/100], loss: 0.3126\n"
          ]
        }
      ],
      "source": [
        "# Xây dựng mô hình ANN cơ bản\n",
        "class ANN12(nn.Module):\n",
        "    def __init__(self):\n",
        "        super(ANN12, self).__init__()\n",
        "        self.layer1 = nn.Linear(2,8)  # Đầu vào 2, ẩn 4\n",
        "        self.relu = nn.ReLU()  # Công tắc ReLU\n",
        "        self.layer2 = nn.Linear(8,6) # Ẩn 4, đầu ra 1\n",
        "        self.relu = nn.ReLU()  # Công tắc ReLU\n",
        "        self.layer3 = nn.Linear(6,1) # Ẩn 4, đầu ra 1\n",
        "        self.sigmoid = nn.Sigmoid() # Xác suất 0-1\n",
        "\n",
        "    def forward(self, x):\n",
        "        x = self.layer1(x)\n",
        "        x = self.relu(x)\n",
        "        x = self.layer2(x)\n",
        "        x = self.relu(x)\n",
        "        x = self.layer3(x)\n",
        "        x = self.sigmoid(x)\n",
        "        return x\n",
        "\n",
        "# Khởi tạo mô hình\n",
        "model12 = ANN12()\n",
        "\n",
        "# Định nghĩa mất mát và tối ưu hóa\n",
        "criterion = nn.BCELoss()\n",
        "optimizer = optim.Adam(model12.parameters(), lr=0.01)\n",
        "\n",
        "# Huấn luyện\n",
        "epochs = 100\n",
        "for epoch in range(epochs):\n",
        "    model12.train()\n",
        "    # Xóa gradient cũ\n",
        "    optimizer.zero_grad()\n",
        "    # Dự đoán\n",
        "    y_pred = model12(X_train)\n",
        "    # Tính sai lầm\n",
        "    loss = criterion(y_pred, y_train)\n",
        "    # Lan truyền ngược\n",
        "    loss.backward()\n",
        "    optimizer.step()\n",
        "    if (epoch + 1) % 20 == 0:\n",
        "        print(f\"Epoch [{epoch+1}/{epochs}], loss: {loss.item():.4f}\")"
      ]
    },
    {
      "cell_type": "code",
      "execution_count": null,
      "metadata": {
        "colab": {
          "base_uri": "https://localhost:8080/"
        },
        "id": "qLktPwq-r_lu",
        "outputId": "1470a048-a209-4a55-f986-e93e72128765"
      },
      "outputs": [
        {
          "name": "stdout",
          "output_type": "stream",
          "text": [
            "Độ chính xác: 86.67%\n"
          ]
        }
      ],
      "source": [
        "# Kiểm tra\n",
        "model12.eval()\n",
        "with torch.no_grad():\n",
        "    y_pred = model12(X_test)\n",
        "    y_pred = (y_pred >= 0.5).float()# Chuyển thành 0 hoặc 1\n",
        "    accuracy = (y_pred == y_test).float().mean()\n",
        "    print(f\"Độ chính xác: {accuracy*100:.2f}%\")"
      ]
    },
    {
      "cell_type": "markdown",
      "metadata": {
        "id": "Iftm9rN6rPs8"
      },
      "source": [
        "**Nhận xét**:\n",
        "\n",
        "Loss càng giảm dần\n",
        "- Độ chính xác tăng dần từ 66% => 100%\n",
        "\n",
        "Độ chính xác:\n",
        "- Mô hình 4 và 8 nút đều có cùng độ chính xác (98,33%).\n",
        "- Mô hình 8+6 nút có độ chính xác thấp hơn có thể do overfitting.\n"
      ]
    },
    {
      "cell_type": "markdown",
      "metadata": {
        "id": "zSh-pcXKnCm3"
      },
      "source": [
        "\n",
        "## Phần 2: Thử nghiệm với hàm mất mát và tối ưu hóa\n",
        "### Yêu cầu\n",
        "1. **Dùng BCEWithLogitsLoss thay cho BCELoss**:  \n",
        "   - Thay `nn.BCELoss()` bằng `nn.BCEWithLogitsLoss()`.  \n",
        "   - Xóa hàm Sigmoid khỏi lớp đầu ra của mô hình (vì `BCEWithLogitsLoss` tự xử lý).  \n",
        "   - Huấn luyện lại mô hình với cấu trúc ban đầu (2-4-1, 100 epochs).  \n",
        "   - Ghi lại mất mát cuối cùng và độ chính xác.\n",
        "\n",
        "2. **Thay Adam bằng SGD**:  \n",
        "   - Dùng lại cấu trúc ban đầu (2-4-1) với `nn.BCELoss()`.  \n",
        "   - Thay `optim.Adam` bằng `optim.SGD` với `lr=0.01`.  \n",
        "   - Huấn luyện lại (100 epochs).  \n",
        "   - Ghi lại mất mát cuối cùng và độ chính xác.\n",
        "\n",
        "3. **Câu hỏi**:  \n",
        "   - So sánh kết quả:  \n",
        "     - `BCEWithLogitsLoss` có khác gì so với `BCELoss` về mất mát và độ chính xác? Tại sao?  \n",
        "     - `SGD` so với `Adam`: Mất mát giảm nhanh hơn hay chậm hơn? Độ chính xác thay đổi ra sao?  \n",
        "   - Viết câu trả lời trong ô Markdown."
      ]
    },
    {
      "cell_type": "markdown",
      "metadata": {
        "id": "BnJFGHrAMyxp"
      },
      "source": [
        "### Yêu cầu 1"
      ]
    },
    {
      "cell_type": "code",
      "execution_count": null,
      "metadata": {
        "colab": {
          "base_uri": "https://localhost:8080/"
        },
        "id": "UCgNfPObnDER",
        "outputId": "77233504-c72e-4b74-e6a1-b4a845cb9bb0"
      },
      "outputs": [
        {
          "name": "stdout",
          "output_type": "stream",
          "text": [
            "Epoch [20/100], loss: 0.6166\n",
            "Epoch [40/100], loss: 0.5268\n",
            "Epoch [60/100], loss: 0.4080\n",
            "Epoch [80/100], loss: 0.3019\n",
            "Epoch [100/100], loss: 0.2231\n"
          ]
        }
      ],
      "source": [
        "# Xây dựng mô hình ANN cơ bản\n",
        "class ANN21(nn.Module):\n",
        "    def __init__(self):\n",
        "        super(ANN21, self).__init__()\n",
        "        self.layer1 = nn.Linear(2,4)  # Đầu vào 2, ẩn 4\n",
        "        self.relu = nn.ReLU()  # Công tắc ReLU\n",
        "        self.layer2 = nn.Linear(4,1) # Ẩn 4, đầu ra 1\n",
        "\n",
        "\n",
        "    def forward(self, x):\n",
        "        x = self.layer1(x)\n",
        "        x = self.relu(x)\n",
        "        x = self.layer2(x)\n",
        "        return x\n",
        "\n",
        "# Khởi tạo mô hình\n",
        "model21 = ANN21()\n",
        "\n",
        "# Định nghĩa mất mát và tối ưu hóa\n",
        "criterion = nn.BCEWithLogitsLoss()\n",
        "optimizer = optim.Adam(model21.parameters(), lr=0.01)\n",
        "\n",
        "# Huấn luyện\n",
        "epochs = 100\n",
        "for epoch in range(epochs):\n",
        "    model21.train()\n",
        "    # Xóa gradient cũ\n",
        "    optimizer.zero_grad()\n",
        "    # Dự đoán\n",
        "    y_pred = model21(X_train)\n",
        "    # Tính sai lầm\n",
        "    loss = criterion(y_pred, y_train)\n",
        "    # Lan truyền ngược\n",
        "    loss.backward()\n",
        "    optimizer.step()\n",
        "    if (epoch + 1) % 20 == 0:\n",
        "        print(f\"Epoch [{epoch+1}/{epochs}], loss: {loss.item():.4f}\")"
      ]
    },
    {
      "cell_type": "code",
      "execution_count": null,
      "metadata": {
        "colab": {
          "base_uri": "https://localhost:8080/"
        },
        "id": "Dfn2A_Z_McJw",
        "outputId": "e0cda489-3f2b-4ac9-ee61-2bba1f936e73"
      },
      "outputs": [
        {
          "name": "stdout",
          "output_type": "stream",
          "text": [
            "Độ chính xác: 95.00%\n"
          ]
        }
      ],
      "source": [
        "# Kiểm tra\n",
        "model21.eval()\n",
        "with torch.no_grad():\n",
        "    y_pred = model21(X_test)\n",
        "    y_pred = (y_pred >= 0.5).float()# Chuyển thành 0 hoặc 1\n",
        "    accuracy = (y_pred == y_test).float().mean()\n",
        "    print(f\"Độ chính xác: {accuracy*100:.2f}%\")"
      ]
    },
    {
      "cell_type": "markdown",
      "metadata": {
        "id": "IQ1B7p1SM1bC"
      },
      "source": [
        "### Yêu cầu 2"
      ]
    },
    {
      "cell_type": "code",
      "execution_count": null,
      "metadata": {
        "colab": {
          "base_uri": "https://localhost:8080/"
        },
        "id": "MnZs-kTXM3zU",
        "outputId": "047dfb47-bed6-444c-9879-2ddb77f149b8"
      },
      "outputs": [
        {
          "name": "stdout",
          "output_type": "stream",
          "text": [
            "Epoch [20/100], loss: 0.6763\n",
            "Epoch [40/100], loss: 0.6654\n",
            "Epoch [60/100], loss: 0.6558\n",
            "Epoch [80/100], loss: 0.6473\n",
            "Epoch [100/100], loss: 0.6397\n"
          ]
        }
      ],
      "source": [
        "# Xây dựng mô hình ANN cơ bản\n",
        "class ANN22(nn.Module):\n",
        "    def __init__(self):\n",
        "        super(ANN22, self).__init__()\n",
        "        self.layer1 = nn.Linear(2,4)  # Đầu vào 2, ẩn 4\n",
        "        self.relu = nn.ReLU()  # Công tắc ReLU\n",
        "        self.layer2 = nn.Linear(4,1) # Ẩn 4, đầu ra 1\n",
        "        self.sigmoid = nn.Sigmoid() # Xác suất 0-1\n",
        "\n",
        "    def forward(self, x):\n",
        "        x = self.layer1(x)\n",
        "        x = self.relu(x)\n",
        "        x = self.layer2(x)\n",
        "        x = self.sigmoid(x)\n",
        "        return x\n",
        "\n",
        "# Khởi tạo mô hình\n",
        "model22 = ANN22()\n",
        "\n",
        "# Định nghĩa mất mát và tối ưu hóa\n",
        "criterion = nn.BCELoss()\n",
        "optimizer = optim.SGD(model22.parameters(), lr=0.01)\n",
        "\n",
        "# Huấn luyện\n",
        "epochs = 100\n",
        "for epoch in range(epochs):\n",
        "    model22.train()\n",
        "    # Xóa gradient cũ\n",
        "    optimizer.zero_grad()\n",
        "    # Dự đoán\n",
        "    y_pred = model22(X_train)\n",
        "    # Tính sai lầm\n",
        "    loss = criterion(y_pred, y_train)\n",
        "    # Lan truyền ngược\n",
        "    loss.backward()\n",
        "    optimizer.step()\n",
        "    if (epoch + 1) % 20 == 0:\n",
        "        print(f\"Epoch [{epoch+1}/{epochs}], loss: {loss.item():.4f}\")"
      ]
    },
    {
      "cell_type": "code",
      "execution_count": null,
      "metadata": {
        "colab": {
          "base_uri": "https://localhost:8080/"
        },
        "id": "IW9biSbCM5Lm",
        "outputId": "c50996bc-577d-4228-bfce-f072dd617c38"
      },
      "outputs": [
        {
          "name": "stdout",
          "output_type": "stream",
          "text": [
            "Độ chính xác: 63.33%\n"
          ]
        }
      ],
      "source": [
        "# Kiểm tra\n",
        "model22.eval()\n",
        "with torch.no_grad():\n",
        "    y_pred = model22(X_test)\n",
        "    y_pred = (y_pred >= 0.5).float()# Chuyển thành 0 hoặc 1\n",
        "    accuracy = (y_pred == y_test).float().mean()\n",
        "    print(f\"Độ chính xác: {accuracy*100:.2f}%\")"
      ]
    },
    {
      "cell_type": "markdown",
      "metadata": {
        "id": "6tAUPfPUFIDB"
      },
      "source": [
        "**Yêu cầu 3:**\n",
        "\n",
        "Nhận xét:\n",
        "\n",
        "1. BCEWithLogitsLoss có khác gì so với BCELoss về mất mát và độ chính xác? Tại sao?\n",
        "\n",
        "- BCEWithLogitsLoss: Đã được tích hợp Sigmoid bên trong, ổn định do có tính toán số mũ trực tiếp.\n",
        "- BCELoss: Cần Sigmoid trước khi tính mất mát, nếu quên Sigmoid thì dễ bị lỗi giá trị số học.\n",
        "\n",
        "  -> Khi dùng BCEWithLogitsLoss mô hình có thể học ổn định hơn còn dùng BCELoss nếu quên Sigmoid thì mất mát có thể cao hơn.\n",
        "\n",
        "2. SGD so với Adam: Mất mát giảm nhanh hơn hay chậm hơn? Độ chính xác thay đổi ra sao?\n",
        "- Adam giảm mất mát nhanh hơn và cho độ chính xác cao hơn so với SGD nhờ cơ chế tự điều chỉnh learning rate.\n",
        "- SGD cập nhất trọng số đơn giản hơn, có thể giảm chậm và dao động nhiều quanh cực tiểu."
      ]
    },
    {
      "cell_type": "markdown",
      "metadata": {
        "id": "GbwCjgltnKZr"
      },
      "source": [
        "## Phần 3: Phân tích kết quả\n",
        "### Yêu cầu\n",
        "1. **Vẽ đồ thị mất mát**:  \n",
        "   - Sửa code huấn luyện để lưu giá trị mất mát (`loss`) sau mỗi epoch vào một danh sách.  \n",
        "   - Vẽ đồ thị mất mát theo epoch cho 3 trường hợp:  \n",
        "     - Cấu trúc ban đầu (2-4-1, Adam, BCELoss).  \n",
        "     - Cấu trúc 2-8-1 (Adam, BCELoss).  \n",
        "     - Cấu trúc 2-4-1 (SGD, BCELoss).  \n",
        "   - Dùng `matplotlib` để vẽ 3 đường trên cùng một đồ thị, thêm chú thích (`legend`).\n",
        "\n",
        "2. **Câu hỏi**:  \n",
        "   - Quan sát đồ thị:  \n",
        "     - Mất mát giảm nhanh nhất ở trường hợp nào? Chậm nhất ở đâu?  \n",
        "     - Có trường hợp nào mất mát không giảm đều không (dao động)? Giải thích tại sao.  \n",
        "   - Viết câu trả lời trong ô Markdown."
      ]
    },
    {
      "cell_type": "markdown",
      "metadata": {
        "id": "tcoGqSzcRuiJ"
      },
      "source": [
        "### Yêu cầu 1"
      ]
    },
    {
      "cell_type": "code",
      "execution_count": null,
      "metadata": {
        "colab": {
          "base_uri": "https://localhost:8080/",
          "height": 556
        },
        "id": "nYKEFQo3IgMD",
        "outputId": "4fbd6698-c2ca-45ac-8c2b-c778a2c267f3"
      },
      "outputs": [
        {
          "data": {
            "image/png": "[encoded data removed]",
            "text/plain": [
              "<Figure size 1000x600 with 1 Axes>"
            ]
          },
          "metadata": {},
          "output_type": "display_data"
        }
      ],
      "source": [
        "import matplotlib.pyplot as plt\n",
        "\n",
        "# Danh sách để lưu loss\n",
        "losses_ANN = []\n",
        "losses_ANN1 = []\n",
        "losses_ANN22 = []\n",
        "\n",
        "# Khởi tạo optimizer cho từng mô hình\n",
        "optimizer_ANN = optim.Adam(model.parameters(), lr=0.01)\n",
        "optimizer_ANN1 = optim.Adam(model1.parameters(), lr=0.01)\n",
        "optimizer_ANN22 = optim.SGD(model22.parameters(), lr=0.01)\n",
        "\n",
        "# Số epoch\n",
        "epochs = 100\n",
        "\n",
        "# Huấn luyện mô hình ANN\n",
        "for epoch in range(epochs):\n",
        "    model.train()\n",
        "    optimizer_ANN.zero_grad()\n",
        "    y_pred = model(X_train)\n",
        "    loss = criterion(y_pred, y_train)\n",
        "    loss.backward()\n",
        "    optimizer_ANN.step()\n",
        "    losses_ANN.append(loss.item())\n",
        "\n",
        "# Huấn luyện mô hình ANN1\n",
        "for epoch in range(epochs):\n",
        "    model1.train()\n",
        "    optimizer_ANN1.zero_grad()\n",
        "    y_pred = model1(X_train)\n",
        "    loss = criterion(y_pred, y_train)\n",
        "    loss.backward()\n",
        "    optimizer_ANN1.step()\n",
        "    losses_ANN1.append(loss.item())\n",
        "\n",
        "# Huấn luyện mô hình ANN22 (SGD)\n",
        "for epoch in range(epochs):\n",
        "    model22.train()\n",
        "    optimizer_ANN22.zero_grad()\n",
        "    y_pred = model22(X_train)\n",
        "    loss = criterion(y_pred, y_train)\n",
        "    loss.backward()\n",
        "    optimizer_ANN22.step()\n",
        "    losses_ANN22.append(loss.item())\n",
        "\n",
        "\n",
        "# Vẽ biểu đồ loss\n",
        "plt.figure(figsize=(10, 6))\n",
        "plt.plot(losses_ANN, label=\"ANN (Adam, 2->4->1)\", linestyle=\"--\")\n",
        "plt.plot(losses_ANN1, label=\"ANN1 (Adam, 2->8->1)\", linestyle=\"-.\")\n",
        "plt.plot(losses_ANN22, label=\"ANN22 (SGD, 2->4->1)\", linestyle=\":\")\n",
        "\n",
        "plt.xlabel(\"Epochs\")\n",
        "plt.ylabel(\"Loss\")\n",
        "plt.title(\"Loss over Epochs for different ANN models\")\n",
        "plt.legend()\n",
        "plt.grid()\n",
        "plt.show()\n"
      ]
    },
    {
      "cell_type": "markdown",
      "metadata": {
        "id": "qHQAEAojIHuA"
      },
      "source": [
        "**Yêu cầu 2:**\n",
        "\n",
        "Nhận xét:\n",
        "\n",
        "1. Mất mát giảm nhanh nhất ở trường hợp nào? Chậm nhất ở đâu?\n",
        "- Mô hình ANN (2-4-1, Adam) và ANN1 (2-8-1, Adam)có xu hướng giảm mất mát nhanh hơn.\n",
        "- Tốc độ giảm mất mát của mô hình ANN (2-4-1, SGD) chậm hơn so với các mô hình sử dụng Adam\n",
        "\n",
        "2. Có trường hợp nào mất mát không giảm đều không (dao động)? Giải thích tại sao.\n",
        "- Mô hình sửa dụng SGD (ANN22) có dao động nhiều hơn.\n",
        "- Vì SGD cập nhật theo patch nhỏ nên khi cập nhật tăng hoặc giảm mất mát sẽ không đều gây ra dao động.\n"
      ]
    }
  ],
  "metadata": {
    "colab": {
      "gpuType": "T4",
      "provenance": []
    },
    "kernelspec": {
      "display_name": "Python 3",
      "name": "python3"
    },
    "language_info": {
      "codemirror_mode": {
        "name": "ipython",
        "version": 3
      },
      "file_extension": ".py",
      "mimetype": "text/x-python",
      "name": "python",
      "nbconvert_exporter": "python",
      "pygments_lexer": "ipython3",
      "version": "3.13.0"
    }
  },
  "nbformat": 4,
  "nbformat_minor": 0
}
